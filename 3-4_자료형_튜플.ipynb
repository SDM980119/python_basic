{
 "cells": [
  {
   "cell_type": "markdown",
   "id": "903ffb98-42b8-4f9e-972d-cdfd96a589ba",
   "metadata": {},
   "source": [
    "# 2. 튜플의 요솟값을 지우거나 변경하려고 하면 어떻게 될까?\n"
   ]
  },
  {
   "cell_type": "code",
   "execution_count": 11,
   "id": "f20d9bb8-afd0-4cae-ab40-3a44f21e7f74",
   "metadata": {},
   "outputs": [
    {
     "ename": "TypeError",
     "evalue": "'tuple' object doesn't support item deletion",
     "output_type": "error",
     "traceback": [
      "\u001b[1;31m---------------------------------------------------------------------------\u001b[0m",
      "\u001b[1;31mTypeError\u001b[0m                                 Traceback (most recent call last)",
      "Cell \u001b[1;32mIn[11], line 2\u001b[0m\n\u001b[0;32m      1\u001b[0m t1\u001b[38;5;241m=\u001b[39m(\u001b[38;5;241m1\u001b[39m,\u001b[38;5;241m2\u001b[39m,\u001b[38;5;124m'\u001b[39m\u001b[38;5;124ma\u001b[39m\u001b[38;5;124m'\u001b[39m,\u001b[38;5;124m'\u001b[39m\u001b[38;5;124mb\u001b[39m\u001b[38;5;124m'\u001b[39m)\n\u001b[1;32m----> 2\u001b[0m \u001b[38;5;28;01mdel\u001b[39;00m t1[\u001b[38;5;241m0\u001b[39m]\n",
      "\u001b[1;31mTypeError\u001b[0m: 'tuple' object doesn't support item deletion"
     ]
    }
   ],
   "source": [
    "# 튜플은 내부 정보를 변경이 불가능해서 del 로 t1의 0번쨰 를 지울려고 시도하면 오류가 뜬다\n",
    "t1=(1,2,'a','b')\n",
    "del t1[0]"
   ]
  },
  {
   "cell_type": "code",
   "execution_count": 14,
   "id": "d18bd014-b981-46d9-85d2-707230d7d97b",
   "metadata": {},
   "outputs": [
    {
     "ename": "TypeError",
     "evalue": "'tuple' object does not support item assignment",
     "output_type": "error",
     "traceback": [
      "\u001b[1;31m---------------------------------------------------------------------------\u001b[0m",
      "\u001b[1;31mTypeError\u001b[0m                                 Traceback (most recent call last)",
      "Cell \u001b[1;32mIn[14], line 2\u001b[0m\n\u001b[0;32m      1\u001b[0m \u001b[38;5;66;03m# 변경도 불가능 하다\u001b[39;00m\n\u001b[1;32m----> 2\u001b[0m t1[\u001b[38;5;241m0\u001b[39m]\u001b[38;5;241m=\u001b[39m\u001b[38;5;124m'\u001b[39m\u001b[38;5;124mc\u001b[39m\u001b[38;5;124m'\u001b[39m\n",
      "\u001b[1;31mTypeError\u001b[0m: 'tuple' object does not support item assignment"
     ]
    }
   ],
   "source": [
    "# 변경도 불가능 하다\n",
    "t1[0]='c'"
   ]
  },
  {
   "cell_type": "markdown",
   "id": "40348a7f-c1fe-4ab3-9484-72c0440d0ad2",
   "metadata": {},
   "source": [
    "# 3. 튜플 다루기"
   ]
  },
  {
   "cell_type": "code",
   "execution_count": 20,
   "id": "15d72564-aaa7-4042-bbdf-144ae5388cda",
   "metadata": {},
   "outputs": [
    {
     "name": "stdout",
     "output_type": "stream",
     "text": [
      "1\n",
      "2\n",
      "a\n",
      "b\n"
     ]
    }
   ],
   "source": [
    "t1=(1,2,'a','b')\n",
    "print(t1[0])\n",
    "print(t1[1])\n",
    "print(t1[2])\n",
    "print(t1[3])"
   ]
  },
  {
   "cell_type": "code",
   "execution_count": 22,
   "id": "bfd5e24a-4d2a-459b-b281-505e73fc11de",
   "metadata": {},
   "outputs": [
    {
     "data": {
      "text/plain": [
       "(2, 'a')"
      ]
     },
     "execution_count": 22,
     "metadata": {},
     "output_type": "execute_result"
    }
   ],
   "source": [
    "# 슬라이싱\n",
    "t1[1:3]"
   ]
  },
  {
   "cell_type": "code",
   "execution_count": 24,
   "id": "044df165-bb40-45eb-83d3-24dcf7734933",
   "metadata": {},
   "outputs": [
    {
     "name": "stdout",
     "output_type": "stream",
     "text": [
      "(1, 2)\n",
      "('a', 'b')\n"
     ]
    }
   ],
   "source": [
    "print(t1[:2])\n",
    "print(t1[2:])"
   ]
  },
  {
   "cell_type": "code",
   "execution_count": 29,
   "id": "4d1f9a88-91ec-42e2-b984-1e4fcefc4a2d",
   "metadata": {},
   "outputs": [
    {
     "data": {
      "text/plain": [
       "(1, 2, 'a', 'b', 3, 4)"
      ]
     },
     "execution_count": 29,
     "metadata": {},
     "output_type": "execute_result"
    }
   ],
   "source": [
    "# 더하기 곱하기 길이구하기 가능\n",
    "t2=(3,4)\n",
    "t3 = t1+t2\n",
    "t3"
   ]
  },
  {
   "cell_type": "code",
   "execution_count": 52,
   "id": "14dbca47-e676-492a-a15a-4d77dbf8c5bd",
   "metadata": {},
   "outputs": [
    {
     "data": {
      "text/plain": [
       "(3, 4, 3, 4)"
      ]
     },
     "execution_count": 52,
     "metadata": {},
     "output_type": "execute_result"
    }
   ],
   "source": [
    "# 곱하기는 반복이다\n",
    "t3 = t2*2\n",
    "t3"
   ]
  },
  {
   "cell_type": "code",
   "execution_count": 59,
   "id": "0d972431-f704-4c33-839f-b244a352991b",
   "metadata": {},
   "outputs": [
    {
     "data": {
      "text/plain": [
       "2"
      ]
     },
     "execution_count": 59,
     "metadata": {},
     "output_type": "execute_result"
    }
   ],
   "source": []
  }
 ],
 "metadata": {
  "kernelspec": {
   "display_name": "Python 3 (ipykernel)",
   "language": "python",
   "name": "python3"
  },
  "language_info": {
   "codemirror_mode": {
    "name": "ipython",
    "version": 3
   },
   "file_extension": ".py",
   "mimetype": "text/x-python",
   "name": "python",
   "nbconvert_exporter": "python",
   "pygments_lexer": "ipython3",
   "version": "3.13.5"
  }
 },
 "nbformat": 4,
 "nbformat_minor": 5
}
