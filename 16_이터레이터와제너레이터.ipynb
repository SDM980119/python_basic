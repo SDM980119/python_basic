{
 "cells": [
  {
   "cell_type": "markdown",
   "id": "50fc62c9-fd07-4e0a-ba72-26ee6ae2b246",
   "metadata": {},
   "source": [
    "## 1. 이터레이터란?\n"
   ]
  },
  {
   "cell_type": "code",
   "execution_count": 1,
   "id": "8f646a26-e1ae-4e92-bb05-53172e5bce39",
   "metadata": {},
   "outputs": [
    {
     "ename": "TypeError",
     "evalue": "'list' object is not an iterator",
     "output_type": "error",
     "traceback": [
      "\u001b[1;31m---------------------------------------------------------------------------\u001b[0m",
      "\u001b[1;31mTypeError\u001b[0m                                 Traceback (most recent call last)",
      "Cell \u001b[1;32mIn[1], line 2\u001b[0m\n\u001b[0;32m      1\u001b[0m a \u001b[38;5;241m=\u001b[39m [\u001b[38;5;241m1\u001b[39m,\u001b[38;5;241m2\u001b[39m,\u001b[38;5;241m3\u001b[39m]\n\u001b[1;32m----> 2\u001b[0m \u001b[38;5;28mnext\u001b[39m(a)\n",
      "\u001b[1;31mTypeError\u001b[0m: 'list' object is not an iterator"
     ]
    }
   ],
   "source": [
    "a = [1,2,3]\n",
    "next(a)"
   ]
  },
  {
   "cell_type": "code",
   "execution_count": 23,
   "id": "4c9f0a7b-f057-4ead-b257-fc401e29d301",
   "metadata": {},
   "outputs": [
    {
     "data": {
      "text/plain": [
       "list_iterator"
      ]
     },
     "execution_count": 23,
     "metadata": {},
     "output_type": "execute_result"
    }
   ],
   "source": [
    "# 일반 리스트는 이터레이터가 아니라서 iter 함수로 변환 시켜 주어야 한다.\n",
    "a = [1,2,3]\n",
    "ia = iter(a)\n",
    "type(ia)"
   ]
  },
  {
   "cell_type": "code",
   "execution_count": 24,
   "id": "eeb5f1b7-5157-4937-bead-f14542bedd3b",
   "metadata": {},
   "outputs": [
    {
     "name": "stdout",
     "output_type": "stream",
     "text": [
      "1\n",
      "2\n",
      "3\n"
     ]
    }
   ],
   "source": [
    "print(next(ia))\n",
    "print(next(ia))\n",
    "print(next(ia))\n",
    "# 리스트에 3개만 있어서 한번더 돌리면 에러남\n"
   ]
  },
  {
   "cell_type": "code",
   "execution_count": 26,
   "id": "c49bef54-c805-40e1-a055-8a58f6c42a69",
   "metadata": {},
   "outputs": [
    {
     "name": "stdout",
     "output_type": "stream",
     "text": [
      "1\n",
      "2\n",
      "3\n"
     ]
    }
   ],
   "source": [
    "# 이터레이터의 값을 가져오는 일반적인 방법(for문)\n",
    "a = [1,2,3]\n",
    "ia = iter(a)\n",
    "for i in ia: # 이터레이터 객체는 포문이나 next로 그 값을 함번 읽으면 다시 읽을수 없음\n",
    "    print(i)"
   ]
  },
  {
   "cell_type": "markdown",
   "id": "2ce1dde9-407c-4b31-917c-70be737cf060",
   "metadata": {},
   "source": [
    "## 2. 제너레이터란?"
   ]
  },
  {
   "cell_type": "code",
   "execution_count": 33,
   "id": "cea3f620-b37c-4d58-8ffb-8e194c4cf959",
   "metadata": {},
   "outputs": [],
   "source": [
    "# 가장 간단한 제너레이터\n",
    "def mygen():\n",
    "    yield'a'\n",
    "    yield'b'\n",
    "    yield'c'\n",
    "    \n",
    "g = mygen()\n"
   ]
  },
  {
   "cell_type": "code",
   "execution_count": 30,
   "id": "a41463ed-589b-4751-a635-2592dd9e0f70",
   "metadata": {},
   "outputs": [
    {
     "data": {
      "text/plain": [
       "generator"
      ]
     },
     "execution_count": 30,
     "metadata": {},
     "output_type": "execute_result"
    }
   ],
   "source": [
    "type(g)"
   ]
  },
  {
   "cell_type": "code",
   "execution_count": 34,
   "id": "9b0d95f6-533f-4dc2-9d37-55834bc4e1d7",
   "metadata": {},
   "outputs": [
    {
     "data": {
      "text/plain": [
       "'a'"
      ]
     },
     "execution_count": 34,
     "metadata": {},
     "output_type": "execute_result"
    }
   ],
   "source": [
    "next(g)"
   ]
  },
  {
   "cell_type": "code",
   "execution_count": 35,
   "id": "28a3b6ed-a319-417e-abf1-2f8461d2294a",
   "metadata": {},
   "outputs": [
    {
     "data": {
      "text/plain": [
       "'b'"
      ]
     },
     "execution_count": 35,
     "metadata": {},
     "output_type": "execute_result"
    }
   ],
   "source": [
    "next(g)"
   ]
  },
  {
   "cell_type": "code",
   "execution_count": 36,
   "id": "8af19bf8-ced1-43d9-a911-a4769abf12ea",
   "metadata": {},
   "outputs": [
    {
     "data": {
      "text/plain": [
       "'c'"
      ]
     },
     "execution_count": 36,
     "metadata": {},
     "output_type": "execute_result"
    }
   ],
   "source": [
    "next(g)"
   ]
  },
  {
   "cell_type": "code",
   "execution_count": 38,
   "id": "2e700dfa-d3be-47f4-abd5-4940a9c9f065",
   "metadata": {},
   "outputs": [
    {
     "ename": "StopIteration",
     "evalue": "",
     "output_type": "error",
     "traceback": [
      "\u001b[1;31m---------------------------------------------------------------------------\u001b[0m",
      "\u001b[1;31mStopIteration\u001b[0m                             Traceback (most recent call last)",
      "Cell \u001b[1;32mIn[38], line 2\u001b[0m\n\u001b[0;32m      1\u001b[0m \u001b[38;5;66;03m# 리스트의 값이 없어서 에러 발생\u001b[39;00m\n\u001b[1;32m----> 2\u001b[0m \u001b[38;5;28mnext\u001b[39m(g)\n",
      "\u001b[1;31mStopIteration\u001b[0m: "
     ]
    }
   ],
   "source": [
    "# 리스트의 값이 없어서 에러 발생\n",
    "next(g)"
   ]
  },
  {
   "cell_type": "markdown",
   "id": "0dcf7a36-024b-4349-a514-4a35263b932c",
   "metadata": {},
   "source": [
    "## 3. 젠레이터 표현식"
   ]
  },
  {
   "cell_type": "code",
   "execution_count": 141,
   "id": "50546d3e-56bd-46c9-8685-aa64e19b0508",
   "metadata": {},
   "outputs": [
    {
     "name": "stdout",
     "output_type": "stream",
     "text": [
      "1\n",
      "4\n",
      "9\n"
     ]
    }
   ],
   "source": [
    "def mygen():\n",
    "    for i in range(1,1000):\n",
    "        result = i*i\n",
    "        yield result\n",
    "\n",
    "gen = mygen()\n",
    "\n",
    "print(next(gen))\n",
    "print(next(gen))\n",
    "print(next(gen))"
   ]
  },
  {
   "cell_type": "code",
   "execution_count": 143,
   "id": "00d46022-f1be-45b0-b8f4-459ee91ba92f",
   "metadata": {},
   "outputs": [
    {
     "name": "stdout",
     "output_type": "stream",
     "text": [
      "1\n",
      "4\n",
      "9\n",
      "16\n",
      "25\n"
     ]
    }
   ],
   "source": [
    "# 제너레이터 표현식\n",
    "gen = (i*i for i in range(1,1000))\n",
    "\n",
    "for i in range(1,6):\n",
    "    print(next(gen))"
   ]
  }
 ],
 "metadata": {
  "kernelspec": {
   "display_name": "Python 3 (ipykernel)",
   "language": "python",
   "name": "python3"
  },
  "language_info": {
   "codemirror_mode": {
    "name": "ipython",
    "version": 3
   },
   "file_extension": ".py",
   "mimetype": "text/x-python",
   "name": "python",
   "nbconvert_exporter": "python",
   "pygments_lexer": "ipython3",
   "version": "3.13.5"
  },
  "widgets": {
   "application/vnd.jupyter.widget-state+json": {
    "state": {},
    "version_major": 2,
    "version_minor": 0
   }
  }
 },
 "nbformat": 4,
 "nbformat_minor": 5
}
