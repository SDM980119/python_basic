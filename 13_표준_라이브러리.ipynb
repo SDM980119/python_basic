{
 "cells": [
  {
   "cell_type": "markdown",
   "id": "3af5a5e5-1d71-4f2d-809f-c55638e469ed",
   "metadata": {},
   "source": [
    "## 1. 날짜 표준 라이브러리"
   ]
  },
  {
   "cell_type": "code",
   "execution_count": 5,
   "id": "98d69d36-90c9-4f60-81dc-0f4037b59657",
   "metadata": {},
   "outputs": [],
   "source": [
    "import datetime\n",
    "day1 = datetime.date(2025,9,1)\n",
    "day2 = datetime.date(2026,4,5)"
   ]
  },
  {
   "cell_type": "code",
   "execution_count": 14,
   "id": "1a4f7351-4094-425e-b27c-bd867c91b542",
   "metadata": {},
   "outputs": [
    {
     "name": "stdout",
     "output_type": "stream",
     "text": [
      "216 days, 0:00:00\n"
     ]
    }
   ],
   "source": [
    "# 시간값이 없어서 날짜만 나옴\n",
    "diff = day2 - day1\n",
    "print(diff)"
   ]
  },
  {
   "cell_type": "code",
   "execution_count": 11,
   "id": "5871f127-55f5-4892-a97d-7b08d0026d03",
   "metadata": {},
   "outputs": [
    {
     "data": {
      "text/plain": [
       "216"
      ]
     },
     "execution_count": 11,
     "metadata": {},
     "output_type": "execute_result"
    }
   ],
   "source": [
    "# 일수만 출력해줌\n",
    "diff.days"
   ]
  },
  {
   "cell_type": "code",
   "execution_count": 19,
   "id": "5e76538f-6046-47e6-9f94-5f0e383cbdc0",
   "metadata": {},
   "outputs": [
    {
     "data": {
      "text/plain": [
       "0"
      ]
     },
     "execution_count": 19,
     "metadata": {},
     "output_type": "execute_result"
    }
   ],
   "source": [
    "# 요일을 출력해줌 (월요일이 0, 일요일이6)\n",
    "day1.weekday()"
   ]
  },
  {
   "cell_type": "code",
   "execution_count": 16,
   "id": "2275c06e-2f66-481a-af12-09227c9d6069",
   "metadata": {},
   "outputs": [
    {
     "data": {
      "text/plain": [
       "6"
      ]
     },
     "execution_count": 16,
     "metadata": {},
     "output_type": "execute_result"
    }
   ],
   "source": [
    "day2.weekday()"
   ]
  },
  {
   "cell_type": "code",
   "execution_count": 20,
   "id": "ee969e6c-3d2b-45e6-88a8-7971900fbba4",
   "metadata": {},
   "outputs": [
    {
     "data": {
      "text/plain": [
       "1"
      ]
     },
     "execution_count": 20,
     "metadata": {},
     "output_type": "execute_result"
    }
   ],
   "source": [
    "# 월요일이 1, 일요일이 7\n",
    "day1.isoweekday()"
   ]
  },
  {
   "cell_type": "code",
   "execution_count": 23,
   "id": "54232eee-ec27-426a-9f45-9621d445ba37",
   "metadata": {},
   "outputs": [
    {
     "data": {
      "text/plain": [
       "datetime.date(2025, 9, 1)"
      ]
     },
     "execution_count": 23,
     "metadata": {},
     "output_type": "execute_result"
    }
   ],
   "source": [
    "# 오늘 날짜를 출력해줌\n",
    "today = datetime.date.today()\n",
    "today"
   ]
  },
  {
   "cell_type": "code",
   "execution_count": 30,
   "id": "adfc604a-2e60-4324-a4de-570bb04a8462",
   "metadata": {},
   "outputs": [
    {
     "data": {
      "text/plain": [
       "'Mon Sep  1 00:00:00 2025'"
      ]
     },
     "execution_count": 30,
     "metadata": {},
     "output_type": "execute_result"
    }
   ],
   "source": [
    "today = datetime.date.today().ctime()\n",
    "today"
   ]
  },
  {
   "cell_type": "code",
   "execution_count": 32,
   "id": "f6b2e2b6-941c-440a-9eed-1ec271638bce",
   "metadata": {},
   "outputs": [
    {
     "data": {
      "text/plain": [
       "'Mon Sep  1 10:05:13 2025'"
      ]
     },
     "execution_count": 32,
     "metadata": {},
     "output_type": "execute_result"
    }
   ],
   "source": [
    "# 지금 시간을 출력\n",
    "today = datetime.datetime.today().ctime()\n",
    "today"
   ]
  },
  {
   "cell_type": "code",
   "execution_count": 34,
   "id": "cad8efbe-5445-4796-af0b-3589525a345a",
   "metadata": {},
   "outputs": [
    {
     "data": {
      "text/plain": [
       "1756688781.4493625"
      ]
     },
     "execution_count": 34,
     "metadata": {},
     "output_type": "execute_result"
    }
   ],
   "source": [
    "# time 객체\n",
    "import time\n",
    "time.time() #1970년 1월 1일 을 기준으로 초단위로 현재까지의 시간을 알려줌"
   ]
  },
  {
   "cell_type": "code",
   "execution_count": 36,
   "id": "a973f7ca-273a-4378-b7d7-9dac91d85669",
   "metadata": {},
   "outputs": [
    {
     "data": {
      "text/plain": [
       "time.struct_time(tm_year=2025, tm_mon=9, tm_mday=1, tm_hour=10, tm_min=7, tm_sec=6, tm_wday=0, tm_yday=244, tm_isdst=0)"
      ]
     },
     "execution_count": 36,
     "metadata": {},
     "output_type": "execute_result"
    }
   ],
   "source": [
    "time.localtime(time.time()) # time.time을 로컬을 기준으로 시간을 계산해줌 쓸일 없을듯?"
   ]
  },
  {
   "cell_type": "code",
   "execution_count": 38,
   "id": "44ae87e9-9581-49a7-a2f5-7b26e74db7f6",
   "metadata": {},
   "outputs": [
    {
     "data": {
      "text/plain": [
       "'Mon Sep  1 10:08:00 2025'"
      ]
     },
     "execution_count": 38,
     "metadata": {},
     "output_type": "execute_result"
    }
   ],
   "source": [
    "time.asctime(time.localtime(time.time())) # 위의 긴 결과를 줄여줌"
   ]
  },
  {
   "cell_type": "code",
   "execution_count": 42,
   "id": "21cf69c8-f88f-4a13-8c5a-b10ee6ce124f",
   "metadata": {},
   "outputs": [
    {
     "data": {
      "text/plain": [
       "'Mon Sep  1 10:08:32 2025'"
      ]
     },
     "execution_count": 42,
     "metadata": {},
     "output_type": "execute_result"
    }
   ],
   "source": [
    "time.ctime() # 위에 코드를 간소화 시킴 가끔 쓸듯"
   ]
  },
  {
   "cell_type": "code",
   "execution_count": 45,
   "id": "d26ad1db-4444-4286-a1ad-fe0b1f5927a2",
   "metadata": {},
   "outputs": [
    {
     "data": {
      "text/plain": [
       "'09/01/25'"
      ]
     },
     "execution_count": 45,
     "metadata": {},
     "output_type": "execute_result"
    }
   ],
   "source": [
    "time.strftime('%x', time.localtime(time.time()))"
   ]
  },
  {
   "cell_type": "code",
   "execution_count": 48,
   "id": "4123b4b2-6747-4d34-83e2-dcbb9dbc3910",
   "metadata": {},
   "outputs": [
    {
     "data": {
      "text/plain": [
       "'Mon Sep  1 10:11:25 2025'"
      ]
     },
     "execution_count": 48,
     "metadata": {},
     "output_type": "execute_result"
    }
   ],
   "source": [
    "time.strftime('%c', time.localtime(time.time()))"
   ]
  },
  {
   "cell_type": "code",
   "execution_count": 54,
   "id": "6e5a84c6-dc32-47dd-a130-85687148e3e2",
   "metadata": {},
   "outputs": [
    {
     "name": "stdout",
     "output_type": "stream",
     "text": [
      "0\n",
      "1\n",
      "2\n",
      "3\n",
      "4\n",
      "5\n",
      "6\n",
      "7\n",
      "8\n",
      "9\n"
     ]
    }
   ],
   "source": [
    "import time\n",
    "for i  in range(10):\n",
    "    print(i)\n",
    "    time.sleep(1)"
   ]
  },
  {
   "cell_type": "markdown",
   "id": "e4901639-096e-4701-bf0f-aec329d5ae6e",
   "metadata": {},
   "source": [
    "## 2. 랜덤함수"
   ]
  },
  {
   "cell_type": "code",
   "execution_count": 58,
   "id": "789b3add-58da-4cd6-a975-491ae573ae36",
   "metadata": {},
   "outputs": [
    {
     "data": {
      "text/plain": [
       "0.06651181080097468"
      ]
     },
     "execution_count": 58,
     "metadata": {},
     "output_type": "execute_result"
    }
   ],
   "source": [
    "# 0~1 사이의 소수를 출력\n",
    "import random\n",
    "random.random()"
   ]
  },
  {
   "cell_type": "code",
   "execution_count": 63,
   "id": "d4410795-052a-41f9-8167-9ce2f35f37b4",
   "metadata": {},
   "outputs": [
    {
     "data": {
      "text/plain": [
       "9"
      ]
     },
     "execution_count": 63,
     "metadata": {},
     "output_type": "execute_result"
    }
   ],
   "source": [
    "# (?,?) 사이의 정수를 출력해줌\n",
    "random.randint(1,10)"
   ]
  },
  {
   "cell_type": "code",
   "execution_count": 64,
   "id": "76ef5501-0509-4b79-8483-3f1b3e2ccf80",
   "metadata": {},
   "outputs": [
    {
     "data": {
      "text/plain": [
       "43"
      ]
     },
     "execution_count": 64,
     "metadata": {},
     "output_type": "execute_result"
    }
   ],
   "source": [
    "random.randint(1,55)"
   ]
  },
  {
   "cell_type": "code",
   "execution_count": 76,
   "id": "e30ae223-482b-4827-a0e9-df65cfaca9c9",
   "metadata": {},
   "outputs": [
    {
     "name": "stdout",
     "output_type": "stream",
     "text": [
      "1\n",
      "5\n",
      "3\n",
      "2\n",
      "4\n"
     ]
    }
   ],
   "source": [
    "# 리스트에서 무작위로 하나를 선택하여 리턴하는 함수\n",
    "import random\n",
    "def random_pop(data):\n",
    "    num = random.randint(0,len(data)-1)\n",
    "    return data.pop(num) # pop이라서 뒤에서 하나씩 뽑아서 제거\n",
    "\n",
    "data = [1,2,3,4,5]\n",
    "while data:\n",
    "    print(random_pop(data))"
   ]
  },
  {
   "cell_type": "code",
   "execution_count": 73,
   "id": "c84630a8-e1f6-4cc8-bd5d-caba1978582b",
   "metadata": {},
   "outputs": [
    {
     "name": "stdout",
     "output_type": "stream",
     "text": [
      "1\n",
      "4\n",
      "2\n",
      "5\n",
      "3\n"
     ]
    }
   ],
   "source": [
    "# 결과는 동일하지만 방식이 다름\n",
    "def random_pop(data):\n",
    "    num = random.choice(data)\n",
    "    data.remove(num)\n",
    "    return num\n",
    "\n",
    "data = [1,2,3,4,5]\n",
    "while data:\n",
    "    print(random_pop(data))"
   ]
  },
  {
   "cell_type": "code",
   "execution_count": 79,
   "id": "b4b461d6-2a1d-494f-bddc-a3efb36ba05d",
   "metadata": {},
   "outputs": [
    {
     "data": {
      "text/plain": [
       "[3, 1, 4, 2, 5]"
      ]
     },
     "execution_count": 79,
     "metadata": {},
     "output_type": "execute_result"
    }
   ],
   "source": [
    "data = [1,2,3,4,5]\n",
    "random.sample(data, len(data))\n"
   ]
  },
  {
   "cell_type": "markdown",
   "id": "ebc6e082-4eb8-4eca-a797-fc806f191ed6",
   "metadata": {},
   "source": [
    "## 3. pickle 표준 라이브러리"
   ]
  },
  {
   "cell_type": "code",
   "execution_count": 83,
   "id": "1ea8f9d1-f7f7-473d-9ceb-0f5bdfe81383",
   "metadata": {},
   "outputs": [],
   "source": [
    "# 딕셔너리를 2진(바이너리로) 데이터를 저장\n",
    "import pickle\n",
    "\n",
    "f = open('test.txt', 'wb') # w생성이자 b 바이너리\n",
    "data = {1: 'python',2:'you need'}\n",
    "pickle.dump(data , f) # 데이터를 파일에 넣어라\n",
    "f.close()"
   ]
  },
  {
   "cell_type": "code",
   "execution_count": 85,
   "id": "f61f0d24-5c47-41b2-91de-3359ca557176",
   "metadata": {},
   "outputs": [
    {
     "name": "stdout",
     "output_type": "stream",
     "text": [
      "{1: 'python', 2: 'you need'}\n"
     ]
    }
   ],
   "source": [
    "f = open('test.txt', 'rb') # 2진으로 저장해서 파일이 꺠짐 그래서 열어야함\n",
    "content = pickle.load(f)\n",
    "print(content)\n",
    "f.close()"
   ]
  },
  {
   "cell_type": "markdown",
   "id": "3c8eb12a-8964-410e-ba2b-94aaf8ccdf9c",
   "metadata": {},
   "source": [
    "## 4. 정규 표현식"
   ]
  },
  {
   "cell_type": "code",
   "execution_count": 98,
   "id": "3d6e0eb1-1f74-464d-929c-b8784e0bac63",
   "metadata": {},
   "outputs": [
    {
     "name": "stdout",
     "output_type": "stream",
     "text": [
      "123\n"
     ]
    }
   ],
   "source": [
    "import re\n",
    "patterm = re.compile(r'\\d+') # 1개이상의 숫자\n",
    "match = patterm.match('123abc') # 맞는걸 \n",
    "if match:\n",
    "    print(match.group())"
   ]
  },
  {
   "cell_type": "code",
   "execution_count": 97,
   "id": "8f8a50f5-67e8-4851-9585-a8666247faaa",
   "metadata": {},
   "outputs": [
    {
     "name": "stdout",
     "output_type": "stream",
     "text": [
      "abc\n"
     ]
    }
   ],
   "source": [
    "patterm = re.compile(r'\\D+') # 숫자가 아닌것\n",
    "match = patterm.search('123abc') # 찾아라 하나만 찾음\n",
    "if match:\n",
    "    print(match.group())"
   ]
  },
  {
   "cell_type": "code",
   "execution_count": 96,
   "id": "7e4a8149-fe5a-4e04-83c2-cdc73c744ce9",
   "metadata": {},
   "outputs": [
    {
     "name": "stdout",
     "output_type": "stream",
     "text": [
      "['abc']\n"
     ]
    }
   ],
   "source": [
    "patterm = re.compile(r'\\D+') # 숫자가 아닌것\n",
    "match = patterm.findall('123abc') # 문자를 찾아서 리스트로 출력 (여러개 찾아줌)\n",
    "print(match)"
   ]
  },
  {
   "cell_type": "code",
   "execution_count": 101,
   "id": "fae8052b-2633-40b6-a1ae-ebdf983bc174",
   "metadata": {},
   "outputs": [
    {
     "name": "stdout",
     "output_type": "stream",
     "text": [
      "NUMabcNUMdef\n"
     ]
    }
   ],
   "source": [
    "pattern = re.compile(r'\\d+')\n",
    "result = pattern.sub('NUM', '123abc456def') # 숫자를 문자NUM으로 바꿈\n",
    "print(result)"
   ]
  },
  {
   "cell_type": "code",
   "execution_count": null,
   "id": "249dbefc-dd51-4899-abee-17e3ddb15dcb",
   "metadata": {},
   "outputs": [],
   "source": []
  },
  {
   "cell_type": "code",
   "execution_count": null,
   "id": "2424fadd-d43a-40fc-86a7-19daf51346c2",
   "metadata": {},
   "outputs": [],
   "source": []
  }
 ],
 "metadata": {
  "kernelspec": {
   "display_name": "Python 3 (ipykernel)",
   "language": "python",
   "name": "python3"
  },
  "language_info": {
   "codemirror_mode": {
    "name": "ipython",
    "version": 3
   },
   "file_extension": ".py",
   "mimetype": "text/x-python",
   "name": "python",
   "nbconvert_exporter": "python",
   "pygments_lexer": "ipython3",
   "version": "3.13.5"
  },
  "widgets": {
   "application/vnd.jupyter.widget-state+json": {
    "state": {},
    "version_major": 2,
    "version_minor": 0
   }
  }
 },
 "nbformat": 4,
 "nbformat_minor": 5
}
