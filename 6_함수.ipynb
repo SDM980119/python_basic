{
 "cells": [
  {
   "cell_type": "markdown",
   "id": "484c8162-06f3-4795-9ce9-27d53c537c2d",
   "metadata": {},
   "source": [
    "## 1. 파이썬 함수"
   ]
  },
  {
   "cell_type": "code",
   "execution_count": 13,
   "id": "356f9207-0f9a-4381-b884-1b1a95f456af",
   "metadata": {},
   "outputs": [
    {
     "name": "stdout",
     "output_type": "stream",
     "text": [
      "7\n",
      "115\n"
     ]
    }
   ],
   "source": [
    "def add(a,b):\n",
    "    return(a+b)\n",
    "    # print(a+b) 도 가능\n",
    "a,b = 3,4\n",
    "c = add(a,b)\n",
    "\n",
    "print(c)\n",
    "\n",
    "d = add(111,222)\n",
    "print(d)"
   ]
  },
  {
   "cell_type": "code",
   "execution_count": 14,
   "id": "28954c00-26b7-4385-b925-451e07a24b33",
   "metadata": {},
   "outputs": [
    {
     "name": "stdout",
     "output_type": "stream",
     "text": [
      "6\n"
     ]
    }
   ],
   "source": [
    "# 1. 매개변수 O, 리턴값 O\n",
    "def minus(a,b):\n",
    "    result = a -b\n",
    "    return result\n",
    "\n",
    "a = minus(10,4)\n",
    "print(a)"
   ]
  },
  {
   "cell_type": "code",
   "execution_count": 15,
   "id": "aa23f9db-2f4c-4b2f-97e4-594dfb1c352f",
   "metadata": {},
   "outputs": [
    {
     "name": "stdout",
     "output_type": "stream",
     "text": [
      "hi!\n"
     ]
    }
   ],
   "source": [
    "# 2. 매개변수 X, 리턴값 O\n",
    "def say():\n",
    "    return('hi!')\n",
    "\n",
    "print(say())"
   ]
  },
  {
   "cell_type": "code",
   "execution_count": 17,
   "id": "fe8232a8-336d-45d1-9467-b3ce9cb33f44",
   "metadata": {},
   "outputs": [
    {
     "name": "stdout",
     "output_type": "stream",
     "text": [
      "12, 24의 합은 36 입니다.\n",
      "3, 4의 합은 7 입니다.\n",
      "None\n"
     ]
    }
   ],
   "source": [
    "# 3. 매개변수 O, 리턴값 X\n",
    "def add(x,y):\n",
    "    print(\"%d, %d의 합은 %d 입니다.\"%(x, y, x+y))\n",
    "add(12,24)\n",
    "\n",
    "\n",
    "a = add(3,4)\n",
    "print(a)"
   ]
  },
  {
   "cell_type": "code",
   "execution_count": 18,
   "id": "248f795b-738e-456a-91b2-da1176b69b26",
   "metadata": {},
   "outputs": [
    {
     "name": "stdout",
     "output_type": "stream",
     "text": [
      "hi~\n"
     ]
    }
   ],
   "source": [
    "# 4. 매개변수 X, 리턴겂 X\n",
    "def say():\n",
    "    print('hi~')\n",
    "say()"
   ]
  },
  {
   "cell_type": "code",
   "execution_count": 23,
   "id": "15054234-d8d5-49d1-88f3-9345446a27df",
   "metadata": {},
   "outputs": [
    {
     "name": "stdout",
     "output_type": "stream",
     "text": [
      "4\n",
      "4\n"
     ]
    }
   ],
   "source": [
    "# 키워드 매개변수\n",
    "def sub(a, b):\n",
    "    return a - b\n",
    "\n",
    "result = sub(7, 3)\n",
    "print(result)\n",
    "\n",
    "result2 = sub(b=3, a=7)\n",
    "print(result2)"
   ]
  },
  {
   "cell_type": "code",
   "execution_count": 27,
   "id": "a42c89cd-2cf2-454d-b53c-e887de26e9ce",
   "metadata": {},
   "outputs": [
    {
     "name": "stdout",
     "output_type": "stream",
     "text": [
      "21\n",
      "55\n"
     ]
    }
   ],
   "source": [
    "# 가변 매개변수(*매개변수명)\n",
    "def add_many(*args): #args는 입력값을 모아서 튜플로 저장이 가능하다(수량제한 없음)\n",
    "    result = 0\n",
    "    for i in args:\n",
    "        result += i\n",
    "    return result\n",
    "res1 = add_many(1,2,3,4,5,6)\n",
    "print(res1)\n",
    "\n",
    "res2 = add_many(1,2,3,4,5,6,7,8,9,10)\n",
    "print(res2)"
   ]
  },
  {
   "cell_type": "code",
   "execution_count": 39,
   "id": "87addf3e-fb22-4cee-87a2-57b9b0aba856",
   "metadata": {},
   "outputs": [
    {
     "name": "stdout",
     "output_type": "stream",
     "text": [
      "6\n",
      "6\n"
     ]
    }
   ],
   "source": [
    "# 덧셈, 곱셈 둘다 연산 가능한 함수\n",
    "def add_mul(choice, *args):\n",
    "    if choice == \"add\":\n",
    "        result = 0\n",
    "        for i in args:\n",
    "            result+=i\n",
    "    elif choice == \"mul\":\n",
    "        result = 1\n",
    "        for i in args:\n",
    "            result*=i\n",
    "    return result\n",
    "result = add_mul(\"add\",1,2,3)\n",
    "print(result)\n",
    "result = add_mul(\"mul\",1,2,3)\n",
    "print(result)"
   ]
  },
  {
   "cell_type": "code",
   "execution_count": 41,
   "id": "45df6612-a839-459f-9fa2-4a83bec16e4c",
   "metadata": {},
   "outputs": [
    {
     "name": "stdout",
     "output_type": "stream",
     "text": [
      "{'a': 1}\n",
      "{'name': 'foo', 'age': 3}\n"
     ]
    }
   ],
   "source": [
    "# 키워드 가변 매개변수(**매개변수)\n",
    "def print_kwargs(**kwargs):\n",
    "    print(kwargs)\n",
    "print_kwargs(a = 1)\n",
    "print_kwargs(name='foo', age=3)"
   ]
  },
  {
   "cell_type": "code",
   "execution_count": 55,
   "id": "70332d33-228e-4dae-8095-7ca2c0fc2390",
   "metadata": {},
   "outputs": [
    {
     "name": "stdout",
     "output_type": "stream",
     "text": [
      "(7, 12)\n",
      "a+b =  7\n",
      "a*b =  12\n"
     ]
    }
   ],
   "source": [
    "# 함수의 리턴값은 하나!!\n",
    "def add_and_mul(a,b):\n",
    "    return a+b, a*b\n",
    "res = add_and_mul(3,4)\n",
    "print(res)\n",
    "\n",
    "res1, res2 = add_and_mul(3,4)\n",
    "print(\"a+b = \",res1)\n",
    "print(\"a*b = \", res2)"
   ]
  },
  {
   "cell_type": "code",
   "execution_count": 58,
   "id": "aa1d0724-da6c-4751-a4fe-213b9776314c",
   "metadata": {},
   "outputs": [
    {
     "name": "stdout",
     "output_type": "stream",
     "text": [
      "5\n"
     ]
    }
   ],
   "source": [
    "# 함수의 리턴값은 하나!!\n",
    "def add_and_mul(a,b):\n",
    "    return a+b\n",
    "    return a*b\n",
    "res = add_and_mul(2,3)\n",
    "print(res)\n",
    "\n",
    "# res1, res2 = add_and_mul(3,4)\n",
    "# print(\"a+b = \",res1)\n",
    "# print(\"a*b = \", res2)"
   ]
  },
  {
   "cell_type": "code",
   "execution_count": 64,
   "id": "5609c09f-0ad0-4c3e-a3c9-d8a51257e6b8",
   "metadata": {},
   "outputs": [
    {
     "name": "stdout",
     "output_type": "stream",
     "text": [
      "나의 별명은 야호\n",
      "나의 별명은 밥\n"
     ]
    }
   ],
   "source": [
    "# return의 또 다른 쓰임새\n",
    "def say_nick(nick):\n",
    "    if nick == '바보':\n",
    "        return\n",
    "    print(\"나의 별명은 %s\"%nick)\n",
    "say_nick('야호')\n",
    "say_nick('바보')\n",
    "say_nick('밥')"
   ]
  },
  {
   "cell_type": "code",
   "execution_count": 67,
   "id": "b6e3e1a2-cdda-4007-93a2-8f61f7072e41",
   "metadata": {},
   "outputs": [
    {
     "name": "stdout",
     "output_type": "stream",
     "text": [
      "나의 이름은 성득명입니다.\n",
      "나이는  28살입니다.\n",
      "남자입니다.\n",
      "나의 이름은 성득명입니다.\n",
      "나이는  28살입니다.\n",
      "여자입니다.\n",
      "나의 이름은 성득명입니다.\n",
      "나이는  28살입니다.\n",
      "남자입니다.\n"
     ]
    }
   ],
   "source": [
    "# 매개변수에 초깃값 설정\n",
    "def say_myself(name,age,man=True):\n",
    "    print(f\"나의 이름은 {name}입니다.\")\n",
    "    print(f\"나이는  {age}살입니다.\")\n",
    "    if man:\n",
    "        print(\"남자입니다.\")\n",
    "    else:\n",
    "        print(\"여자입니다.\")\n",
    "say_myself(\"성득명\",28)\n",
    "say_myself(\"성득명\",28, False)\n",
    "say_myself(\"성득명\",28, True)\n"
   ]
  },
  {
   "cell_type": "code",
   "execution_count": 68,
   "id": "cf7cbcc1-0148-4803-b41a-1a51d398068f",
   "metadata": {},
   "outputs": [
    {
     "ename": "SyntaxError",
     "evalue": "parameter without a default follows parameter with a default (3321366676.py, line 2)",
     "output_type": "error",
     "traceback": [
      "\u001b[1;36m  Cell \u001b[1;32mIn[68], line 2\u001b[1;36m\u001b[0m\n\u001b[1;33m    def say_myself(name,man=True,age):\u001b[0m\n\u001b[1;37m                                 ^\u001b[0m\n\u001b[1;31mSyntaxError\u001b[0m\u001b[1;31m:\u001b[0m parameter without a default follows parameter with a default\n"
     ]
    }
   ],
   "source": [
    "# 매개변수에 초깃값 설정\n",
    "def say_myself(name,man=True,age): # 기본값도 위치가 다르면 오르가 발생한다.\n",
    "    print(f\"나의 이름은 {name}입니다.\")\n",
    "    print(f\"나이는  {age}살입니다.\")\n",
    "    if man:\n",
    "        print(\"남자입니다.\")\n",
    "    else:\n",
    "        print(\"여자입니다.\")\n",
    "say_myself(\"성득명\",28)\n",
    "say_myself(\"성득명\",28, False)\n",
    "say_myself(\"성득명\",28, True)\n"
   ]
  },
  {
   "cell_type": "code",
   "execution_count": 97,
   "id": "5b751793-0af8-4b42-b82a-1db24be760fc",
   "metadata": {},
   "outputs": [
    {
     "ename": "UnboundLocalError",
     "evalue": "cannot access local variable 'a' where it is not associated with a value",
     "output_type": "error",
     "traceback": [
      "\u001b[1;31m---------------------------------------------------------------------------\u001b[0m",
      "\u001b[1;31mUnboundLocalError\u001b[0m                         Traceback (most recent call last)",
      "Cell \u001b[1;32mIn[97], line 6\u001b[0m\n\u001b[0;32m      3\u001b[0m \u001b[38;5;28;01mdef\u001b[39;00m\u001b[38;5;250m \u001b[39m\u001b[38;5;21mvartest\u001b[39m(value):\n\u001b[0;32m      4\u001b[0m     a \u001b[38;5;241m=\u001b[39m a\u001b[38;5;241m+\u001b[39m\u001b[38;5;241m1\u001b[39m\n\u001b[1;32m----> 6\u001b[0m vartest(a)\n\u001b[0;32m      7\u001b[0m \u001b[38;5;28mprint\u001b[39m(a)\n",
      "Cell \u001b[1;32mIn[97], line 4\u001b[0m, in \u001b[0;36mvartest\u001b[1;34m(value)\u001b[0m\n\u001b[0;32m      3\u001b[0m \u001b[38;5;28;01mdef\u001b[39;00m\u001b[38;5;250m \u001b[39m\u001b[38;5;21mvartest\u001b[39m(value):\n\u001b[1;32m----> 4\u001b[0m     a \u001b[38;5;241m=\u001b[39m a\u001b[38;5;241m+\u001b[39m\u001b[38;5;241m1\u001b[39m\n",
      "\u001b[1;31mUnboundLocalError\u001b[0m: cannot access local variable 'a' where it is not associated with a value"
     ]
    }
   ],
   "source": [
    "# 함수의 유효범위\n",
    "a = 1\n",
    "def vartest(value):\n",
    "    a = a+1\n",
    "\n",
    "vartest(a)\n",
    "print(a)"
   ]
  },
  {
   "cell_type": "code",
   "execution_count": 98,
   "id": "fcb5e214-dca6-4e67-a35d-4b25fc7f8740",
   "metadata": {},
   "outputs": [
    {
     "name": "stdout",
     "output_type": "stream",
     "text": [
      "2\n"
     ]
    }
   ],
   "source": [
    "# 함수의 유효범위 => 1. return 사용하기\n",
    "a = 1\n",
    "def vartest(x):\n",
    "    x = x+1\n",
    "    return x\n",
    "\n",
    "a = vartest(a)\n",
    "print(a)"
   ]
  },
  {
   "cell_type": "code",
   "execution_count": 94,
   "id": "3daf11f1-2db7-4c77-a29a-14e9df5a0e14",
   "metadata": {},
   "outputs": [
    {
     "name": "stdout",
     "output_type": "stream",
     "text": [
      "2\n"
     ]
    }
   ],
   "source": [
    "# 함수의 유효범위 => 2. global 명령어 사용하기\n",
    "a = 1\n",
    "def vartest():\n",
    "    global a # 함수 안에서 a는 전역변수로 변경됨\n",
    "    a += 1\n",
    "vartest()\n",
    "print(a)"
   ]
  },
  {
   "cell_type": "code",
   "execution_count": 1,
   "id": "b7eade7b-a728-4524-81d3-bda16f132624",
   "metadata": {},
   "outputs": [
    {
     "name": "stdout",
     "output_type": "stream",
     "text": [
      "7\n"
     ]
    }
   ],
   "source": [
    "# lambda 표현식(예약어) 사용 안하고 함수 선언\n",
    "def add(a,b):\n",
    "    return a+b\n",
    "print(add(3,4))"
   ]
  },
  {
   "cell_type": "code",
   "execution_count": 2,
   "id": "1329a064-3998-40c3-9f1e-a37f9e605b08",
   "metadata": {},
   "outputs": [
    {
     "name": "stdout",
     "output_type": "stream",
     "text": [
      "7\n"
     ]
    }
   ],
   "source": [
    "# lambda 사용한 버전\n",
    "add = lambda a, b:a+b\n",
    "result=add(3,4)\n",
    "print(result)\n"
   ]
  },
  {
   "cell_type": "markdown",
   "id": "a22c1db4-0ca1-44e6-a9a9-39d41a31ce25",
   "metadata": {},
   "source": [
    "## 2. 함수의 활용"
   ]
  },
  {
   "cell_type": "markdown",
   "id": "c6931e24-0096-482b-8a30-c3e5972b10cc",
   "metadata": {},
   "source": [
    "#### 1) 재귀 함수\n",
    ": 내가 만든 함수를 다시 호출하는 것"
   ]
  },
  {
   "cell_type": "code",
   "execution_count": 3,
   "id": "1b770075-5d83-49d0-af51-bb7a8b98ad54",
   "metadata": {},
   "outputs": [
    {
     "name": "stdout",
     "output_type": "stream",
     "text": [
      "5! 120\n",
      "4! 24\n",
      "3! 6\n",
      "2! 2\n",
      "1! 1\n"
     ]
    }
   ],
   "source": [
    "# 반복문으로 팩토리얼 구하기\n",
    "def factorial(n):\n",
    "    output = 1\n",
    "    for i in range(1,n+1):\n",
    "        output *= i\n",
    "    return output\n",
    "print('5!', factorial(5))\n",
    "print('4!', factorial(4))\n",
    "print('3!', factorial(3))\n",
    "print('2!', factorial(2))\n",
    "print('1!', factorial(1))"
   ]
  },
  {
   "cell_type": "code",
   "execution_count": 4,
   "id": "28518abc-a1de-4f5a-aa4f-8520247b4d80",
   "metadata": {},
   "outputs": [
    {
     "name": "stdout",
     "output_type": "stream",
     "text": [
      "5! 120\n"
     ]
    }
   ],
   "source": [
    "# 재귀 함수로 팩토리얼 구하기\n",
    "def factorial(n):\n",
    "    if n == 0:\n",
    "        return 1\n",
    "    else:\n",
    "        return n * factorial(n-1)\n",
    "print('5!', factorial(5))\n"
   ]
  },
  {
   "cell_type": "markdown",
   "id": "63fafd49-0017-407a-82cc-2be3d3add326",
   "metadata": {},
   "source": [
    "#### 2)리스트 평탄화하는 재귀함수 만들기"
   ]
  },
  {
   "cell_type": "code",
   "execution_count": 5,
   "id": "3cf98919-117f-4a29-8cc1-723e3841639a",
   "metadata": {},
   "outputs": [
    {
     "name": "stdout",
     "output_type": "stream",
     "text": [
      "원본:  [[1, 2, 3], [4, [5, 6]], 7, [8, 9]]\n",
      "변환:  [1, 2, 3, 4, [5, 6], 7, 8, 9]\n"
     ]
    }
   ],
   "source": [
    "# 반복문으로 리스트 평탄화\n",
    "def flatten(data):\n",
    "    output = []\n",
    "    for item in data:\n",
    "        if type(item) == list:\n",
    "            output += item\n",
    "        else:\n",
    "            output.append(item)\n",
    "    return output\n",
    "example = [[1,2,3],[4,[5,6]],7,[8,9]]\n",
    "print('원본: ',example)\n",
    "print('변환: ',flatten(example))"
   ]
  },
  {
   "cell_type": "code",
   "execution_count": 6,
   "id": "d4538a5c-344a-43dc-af15-ccb12a8d0277",
   "metadata": {},
   "outputs": [
    {
     "name": "stdout",
     "output_type": "stream",
     "text": [
      "원본:  [[1, 2, 3], [4, [5, 6]], 7, [8, 9]]\n",
      "변환:  [1, 2, 3, 4, 5, 6, 7, 8, 9]\n"
     ]
    }
   ],
   "source": [
    "# 재귀 함수로 리스트 평탄화\n",
    "def flatten(data):\n",
    "    output = []\n",
    "    for item in data:\n",
    "        if type(item) == list:\n",
    "            output += flatten(item)\n",
    "        else:\n",
    "            output.append(item)\n",
    "    return output\n",
    "example = [[1,2,3],[4,[5,6]],7,[8,9]]\n",
    "print('원본: ',example)\n",
    "print('변환: ',flatten(example))"
   ]
  },
  {
   "cell_type": "code",
   "execution_count": null,
   "id": "e5ffba34-89cb-4448-81a1-24cafe0b1a72",
   "metadata": {},
   "outputs": [],
   "source": []
  }
 ],
 "metadata": {
  "kernelspec": {
   "display_name": "Python 3 (ipykernel)",
   "language": "python",
   "name": "python3"
  },
  "language_info": {
   "codemirror_mode": {
    "name": "ipython",
    "version": 3
   },
   "file_extension": ".py",
   "mimetype": "text/x-python",
   "name": "python",
   "nbconvert_exporter": "python",
   "pygments_lexer": "ipython3",
   "version": "3.13.5"
  }
 },
 "nbformat": 4,
 "nbformat_minor": 5
}
