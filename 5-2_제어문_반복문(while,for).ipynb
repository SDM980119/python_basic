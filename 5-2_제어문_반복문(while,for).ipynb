{
 "cells": [
  {
   "cell_type": "markdown",
   "id": "0890b555-4c07-4d82-9a63-bccc5ccd6795",
   "metadata": {},
   "source": [
    "## 1. 제어문"
   ]
  },
  {
   "cell_type": "code",
   "execution_count": 3,
   "id": "c2403eec-409f-4035-8fe5-5fb9d46b7be1",
   "metadata": {},
   "outputs": [
    {
     "name": "stdout",
     "output_type": "stream",
     "text": [
      "나무를 1 번 찍었습니다.\n",
      "나무를 2 번 찍었습니다.\n",
      "나무를 3 번 찍었습니다.\n",
      "나무를 4 번 찍었습니다.\n",
      "나무를 5 번 찍었습니다.\n",
      "나무를 6 번 찍었습니다.\n",
      "나무를 7 번 찍었습니다.\n",
      "나무를 8 번 찍었습니다.\n",
      "나무를 9 번 찍었습니다.\n",
      "나무를 10 번 찍었습니다.\n",
      "넘어감\n"
     ]
    }
   ],
   "source": [
    "treeHit = 0\n",
    "while treeHit<10:\n",
    "    treeHit +=1\n",
    "    print(\"나무를 %d 번 찍었습니다.\" %treeHit)\n",
    "    if treeHit == 10:\n",
    "        print(\"넘어감\")"
   ]
  },
  {
   "cell_type": "code",
   "execution_count": 16,
   "id": "8d34596f-0165-48b2-99e9-0bee553d5f06",
   "metadata": {},
   "outputs": [
    {
     "name": "stdout",
     "output_type": "stream",
     "text": [
      "나무를 1 번 찍었습니다.\n",
      "나무를 2 번 찍었습니다.\n",
      "나무를 3 번 찍었습니다.\n",
      "나무를 4 번 찍었습니다.\n",
      "나무를 5 번 찍었습니다.\n",
      "나무를 6 번 찍었습니다.\n",
      "나무를 7 번 찍었습니다.\n",
      "나무를 8 번 찍었습니다.\n",
      "나무를 9 번 찍었습니다.\n",
      "나무를 10 번 찍었습니다.\n",
      "넘어감\n"
     ]
    }
   ],
   "source": [
    "treeHit = 0\n",
    "while treeHit<10:\n",
    "    treeHit +=1\n",
    "    print(\"나무를 %d 번 찍었습니다.\" %treeHit)\n",
    "    if treeHit == 10:\n",
    "        print(\"넘어감\")"
   ]
  },
  {
   "cell_type": "code",
   "execution_count": 17,
   "id": "7b98110d-ac3c-4243-b7fd-8b88fde6e454",
   "metadata": {},
   "outputs": [],
   "source": [
    "prompt = \"\"\"\n",
    "1. add\n",
    "2. del\n",
    "3. list\n",
    "4.Quit\n",
    "\n",
    "Enter number: \"\"\"\n"
   ]
  },
  {
   "cell_type": "code",
   "execution_count": 18,
   "id": "0fb2d8ca-7906-490d-8b4a-e7208e399d31",
   "metadata": {},
   "outputs": [
    {
     "name": "stdout",
     "output_type": "stream",
     "text": [
      "\n",
      "1. add\n",
      "2. del\n",
      "3. list\n",
      "4.Quit\n",
      "\n",
      "Enter number: \n"
     ]
    },
    {
     "name": "stdin",
     "output_type": "stream",
     "text": [
      " 1\n"
     ]
    },
    {
     "name": "stdout",
     "output_type": "stream",
     "text": [
      "\n",
      "1. add\n",
      "2. del\n",
      "3. list\n",
      "4.Quit\n",
      "\n",
      "Enter number: \n"
     ]
    },
    {
     "name": "stdin",
     "output_type": "stream",
     "text": [
      " 2\n"
     ]
    },
    {
     "name": "stdout",
     "output_type": "stream",
     "text": [
      "\n",
      "1. add\n",
      "2. del\n",
      "3. list\n",
      "4.Quit\n",
      "\n",
      "Enter number: \n"
     ]
    },
    {
     "name": "stdin",
     "output_type": "stream",
     "text": [
      " 3\n"
     ]
    },
    {
     "name": "stdout",
     "output_type": "stream",
     "text": [
      "\n",
      "1. add\n",
      "2. del\n",
      "3. list\n",
      "4.Quit\n",
      "\n",
      "Enter number: \n"
     ]
    },
    {
     "name": "stdin",
     "output_type": "stream",
     "text": [
      " 4\n"
     ]
    }
   ],
   "source": [
    "number = 0\n",
    "while number !=4 :\n",
    "    print(prompt)\n",
    "    number = int(input())"
   ]
  },
  {
   "cell_type": "code",
   "execution_count": 19,
   "id": "03a9e519-b1b1-48af-8d8a-1b93002a6773",
   "metadata": {},
   "outputs": [
    {
     "name": "stdout",
     "output_type": "stream",
     "text": [
      "돈받 커받\n",
      "남은9개 입니다\n",
      "돈받 커받\n",
      "남은8개 입니다\n",
      "돈받 커받\n",
      "남은7개 입니다\n",
      "돈받 커받\n",
      "남은6개 입니다\n",
      "돈받 커받\n",
      "남은5개 입니다\n",
      "돈받 커받\n",
      "남은4개 입니다\n",
      "돈받 커받\n",
      "남은3개 입니다\n",
      "돈받 커받\n",
      "남은2개 입니다\n",
      "돈받 커받\n",
      "남은1개 입니다\n",
      "돈받 커받\n",
      "남은0개 입니다\n",
      "커피가 없다\n"
     ]
    }
   ],
   "source": [
    "#break문 : while 문 강제로 빠져나가기\n",
    "\n",
    "coffee = 10\n",
    "money = 300\n",
    "\n",
    "while money:\n",
    "    print(\"돈받 커받\")\n",
    "    coffee -= 1\n",
    "    print(\"남은%d개 입니다\"%coffee)\n",
    "    if coffee == 0:\n",
    "        print(\"커피가 없다\")\n",
    "        break"
   ]
  },
  {
   "cell_type": "code",
   "execution_count": 26,
   "id": "c223663c-3a0d-4929-92ea-6a5d7c742705",
   "metadata": {},
   "outputs": [
    {
     "name": "stdin",
     "output_type": "stream",
     "text": [
      "돈을 넣어 주시오 11111111\n"
     ]
    },
    {
     "name": "stdout",
     "output_type": "stream",
     "text": [
      "거스름돈11110811를 주고 커피를 줍니다.\n",
      "커피가 매진\n",
      "남은 커피는 0 입니다.\n"
     ]
    }
   ],
   "source": [
    "coffee =1\n",
    "while True:\n",
    "    money = int(input(\"돈을 넣어 주시오\"))\n",
    "    if money == 300:\n",
    "        print(\"커피를 줍니다\")\n",
    "        coffee-=1\n",
    "    elif money>300:\n",
    "        print(\"거스름돈%d를 주고 커피를 줍니다.\"%(money-300))\n",
    "        coffee-=1\n",
    "    else:\n",
    "        print(\"커피를 주지않음 돈이부족함\")\n",
    "\n",
    "    if coffee == 0:\n",
    "        print (\"커피가 매진\")\n",
    "        break\n",
    "\n",
    "print(\"남은 커피는 %d 입니다.\"%coffee)\n"
   ]
  },
  {
   "cell_type": "code",
   "execution_count": 28,
   "id": "d53fea9a-0448-4a9a-898c-f51eaeca6a9d",
   "metadata": {},
   "outputs": [
    {
     "name": "stdout",
     "output_type": "stream",
     "text": [
      "1\n",
      "3\n",
      "5\n",
      "7\n",
      "9\n"
     ]
    }
   ],
   "source": [
    "# continue 는 반복문의 처음 지점으로 돌아간다\n",
    "a = 0\n",
    "while a < 10:\n",
    "    a += 1\n",
    "    if a % 2 == 0:\n",
    "        continue\n",
    "    print(a)"
   ]
  },
  {
   "cell_type": "markdown",
   "id": "ba64e19e-16ac-42f2-8726-25fdab976e5d",
   "metadata": {},
   "source": [
    "## 2.for()문"
   ]
  },
  {
   "cell_type": "code",
   "execution_count": 2,
   "id": "757420fb-0d65-4cdb-87a1-a82363be814c",
   "metadata": {},
   "outputs": [
    {
     "name": "stdout",
     "output_type": "stream",
     "text": [
      "one\n",
      "two\n",
      "three\n"
     ]
    }
   ],
   "source": [
    "test_list = ['one', 'two', 'three']\n",
    "\n",
    "for i in test_list:\n",
    "    print(i)"
   ]
  },
  {
   "cell_type": "code",
   "execution_count": 4,
   "id": "3db92768-cee1-4667-b3d1-cf71d7629861",
   "metadata": {},
   "outputs": [
    {
     "name": "stdout",
     "output_type": "stream",
     "text": [
      "(5, 6)\n",
      "5\n"
     ]
    }
   ],
   "source": [
    "a = [(1,2),(3,4),(5,6)]\n",
    "print(a[2])\n",
    "print(a[2][0])"
   ]
  },
  {
   "cell_type": "code",
   "execution_count": 10,
   "id": "e06c991e-37de-469a-86e5-be16d3603634",
   "metadata": {},
   "outputs": [
    {
     "name": "stdout",
     "output_type": "stream",
     "text": [
      "1\n",
      "2\n",
      "3\n",
      "3\n",
      "4\n",
      "7\n",
      "5\n",
      "6\n",
      "11\n"
     ]
    }
   ],
   "source": [
    "for (first,last) in a:\n",
    "    print(first)\n",
    "    print(last)\n",
    "    print(first + last)"
   ]
  },
  {
   "cell_type": "code",
   "execution_count": 8,
   "id": "157df2a8-38e6-4bbb-843a-0fa93724c7b3",
   "metadata": {},
   "outputs": [
    {
     "name": "stdout",
     "output_type": "stream",
     "text": [
      "(1, 2)\n",
      "(3, 4)\n",
      "(5, 6)\n"
     ]
    }
   ],
   "source": [
    "for i in a:\n",
    "    print(i)"
   ]
  },
  {
   "cell_type": "code",
   "execution_count": 16,
   "id": "4de6e9e2-6bb6-4285-928b-dec8eb729e08",
   "metadata": {},
   "outputs": [
    {
     "name": "stdout",
     "output_type": "stream",
     "text": [
      "1번 학생은 합격입니다.\n",
      "2번 학색은 불 합격입니다.\n",
      "3번 학생은 합격입니다.\n",
      "4번 학색은 불 합격입니다.\n",
      "5번 학생은 합격입니다.\n"
     ]
    }
   ],
   "source": [
    "marks = [90,25,67,45,80] ##학생들의 시험점수 리스트\n",
    "number = 0 ##학생에게 붙여줄 번호\n",
    "\n",
    "for mark in marks:\n",
    "    number += 1\n",
    "    if mark >= 60:\n",
    "        print(\"%d번 학생은 합격입니다.\" %number)\n",
    "    else:\n",
    "        print(\"%d번 학색은 불 합격입니다.\" %number)"
   ]
  },
  {
   "cell_type": "code",
   "execution_count": 19,
   "id": "29b02cf8-a7bb-45c1-a4ab-7f27f521edf1",
   "metadata": {},
   "outputs": [
    {
     "name": "stdout",
     "output_type": "stream",
     "text": [
      "1번 학생은 합격입니다. \n",
      " 축하합니다.\n",
      "3번 학생은 합격입니다. \n",
      " 축하합니다.\n",
      "5번 학생은 합격입니다. \n",
      " 축하합니다.\n"
     ]
    }
   ],
   "source": [
    "marks = [90,25,67,45,80] ##학생들의 시험점수 리스트\n",
    "number = 0 ##학생에게 붙여줄 번호\n",
    "\n",
    "for mark in marks:\n",
    "    number += 1\n",
    "    if mark >= 60:\n",
    "        print(\"%d번 학생은 합격입니다. \\n 축하합니다.\" %number)\n",
    "        continue\n",
    "            "
   ]
  },
  {
   "cell_type": "code",
   "execution_count": 21,
   "id": "a36067ff-9be8-4913-8e3d-c63dc9ce579f",
   "metadata": {},
   "outputs": [
    {
     "name": "stdout",
     "output_type": "stream",
     "text": [
      "1번 학생은 합격입니다. \n",
      " 축하합니다.\n",
      "3번 학생은 합격입니다. \n",
      " 축하합니다.\n",
      "5번 학생은 합격입니다. \n",
      " 축하합니다.\n"
     ]
    }
   ],
   "source": [
    "marks = [90,25,67,45,80] ##학생들의 시험점수 리스트\n",
    "number = 0 ##학생에게 붙여줄 번호\n",
    "\n",
    "for mark in marks:\n",
    "    number += 1\n",
    "    if mark >= 60:\n",
    "        print(\"%d번 학생은 합격입니다. \\n 축하합니다.\" %number)\n",
    "    \n",
    "    else:\n",
    "        continue\n",
    "        pritn(\"%d번 학생은 불합격입니다.\")"
   ]
  },
  {
   "cell_type": "code",
   "execution_count": 22,
   "id": "c9f7f291-2667-4963-9415-af07cf6892e9",
   "metadata": {},
   "outputs": [
    {
     "name": "stdout",
     "output_type": "stream",
     "text": [
      "1번 학생은 합격입니다. \n",
      " 축하합니다.\n",
      "3번 학생은 합격입니다. \n",
      " 축하합니다.\n",
      "5번 학생은 합격입니다. \n",
      " 축하합니다.\n"
     ]
    }
   ],
   "source": [
    "marks = [90,25,67,45,80] ##학생들의 시험점수 리스트\n",
    "number = 0 ##학생에게 붙여줄 번호\n",
    "\n",
    "for mark in marks:\n",
    "    number += 1\n",
    "    if mark < 60:\n",
    "        continue    \n",
    "    print(\"%d번 학생은 합격입니다. \\n 축하합니다.\" %number)"
   ]
  },
  {
   "cell_type": "markdown",
   "id": "81217078-a083-4d20-93b1-e57977b9269b",
   "metadata": {},
   "source": [
    "### for문과 함께 자주 사용하는 range 함수"
   ]
  },
  {
   "cell_type": "code",
   "execution_count": 25,
   "id": "6de72fab-95ce-45bb-8f08-421ecb13843f",
   "metadata": {},
   "outputs": [
    {
     "name": "stdout",
     "output_type": "stream",
     "text": [
      "range(0, 10)\n",
      "<class 'range'>\n"
     ]
    }
   ],
   "source": [
    "a = range(10)\n",
    "print(a)\n",
    "print(type(a))"
   ]
  },
  {
   "cell_type": "code",
   "execution_count": 26,
   "id": "cd459d09-1624-40bf-a77f-ff482433a67f",
   "metadata": {},
   "outputs": [
    {
     "name": "stdout",
     "output_type": "stream",
     "text": [
      "[0, 1, 2, 3, 4, 5, 6, 7, 8, 9]\n",
      "<class 'list'>\n"
     ]
    }
   ],
   "source": [
    "a = list(a)\n",
    "print(a)\n",
    "print(type(a))"
   ]
  },
  {
   "cell_type": "code",
   "execution_count": 29,
   "id": "e39e69cc-9bec-447e-ac5b-9f649a6c289d",
   "metadata": {},
   "outputs": [
    {
     "name": "stdout",
     "output_type": "stream",
     "text": [
      "[1, 2, 3, 4, 5, 6, 7, 8, 9, 10]\n",
      "<class 'list'>\n"
     ]
    }
   ],
   "source": [
    "a = list(range(1,11))\n",
    "print(a)\n",
    "print(type(a))"
   ]
  },
  {
   "cell_type": "code",
   "execution_count": 1,
   "id": "5dfbab60-b072-47c9-a825-4d2f61d917be",
   "metadata": {},
   "outputs": [
    {
     "name": "stdout",
     "output_type": "stream",
     "text": [
      "1\n",
      "3\n",
      "6\n",
      "10\n",
      "15\n",
      "21\n",
      "28\n",
      "36\n",
      "45\n",
      "55\n",
      "--------------------\n",
      "55\n"
     ]
    }
   ],
   "source": [
    "add = 0\n",
    "for i in range(1,11):\n",
    "    add += i\n",
    "    print(add)\n",
    "print(\"-\"*20)\n",
    "print(add)"
   ]
  },
  {
   "cell_type": "code",
   "execution_count": 8,
   "id": "4ec1bc83-439f-4c49-bd80-4e57d07d3337",
   "metadata": {},
   "outputs": [
    {
     "name": "stdout",
     "output_type": "stream",
     "text": [
      "1번 학생 축하합니다.합격\n",
      "3번 학생 축하합니다.합격\n",
      "5번 학생 축하합니다.합격\n"
     ]
    }
   ],
   "source": [
    "marks = [90,25,67,45,80]\n",
    "for number in range(len(marks)):\n",
    "    if marks[number]<60:\n",
    "        continue\n",
    "    print(\"%d번 학생 축하합니다.합격\"%(number+1))"
   ]
  },
  {
   "cell_type": "code",
   "execution_count": 13,
   "id": "81fc7443-75f4-4f99-b721-00059b1f101b",
   "metadata": {},
   "outputs": [
    {
     "name": "stdout",
     "output_type": "stream",
     "text": [
      "2단\n",
      "2 * 1 = 2\n",
      "2 * 2 = 4\n",
      "2 * 3 = 6\n",
      "2 * 4 = 8\n",
      "2 * 5 = 10\n",
      "2 * 6 = 12\n",
      "2 * 7 = 14\n",
      "2 * 8 = 16\n",
      "2 * 9 = 18\n",
      "--------------------\n",
      "3단\n",
      "3 * 1 = 3\n",
      "3 * 2 = 6\n",
      "3 * 3 = 9\n",
      "3 * 4 = 12\n",
      "3 * 5 = 15\n",
      "3 * 6 = 18\n",
      "3 * 7 = 21\n",
      "3 * 8 = 24\n",
      "3 * 9 = 27\n",
      "--------------------\n",
      "4단\n",
      "4 * 1 = 4\n",
      "4 * 2 = 8\n",
      "4 * 3 = 12\n",
      "4 * 4 = 16\n",
      "4 * 5 = 20\n",
      "4 * 6 = 24\n",
      "4 * 7 = 28\n",
      "4 * 8 = 32\n",
      "4 * 9 = 36\n",
      "--------------------\n",
      "5단\n",
      "5 * 1 = 5\n",
      "5 * 2 = 10\n",
      "5 * 3 = 15\n",
      "5 * 4 = 20\n",
      "5 * 5 = 25\n",
      "5 * 6 = 30\n",
      "5 * 7 = 35\n",
      "5 * 8 = 40\n",
      "5 * 9 = 45\n",
      "--------------------\n",
      "6단\n",
      "6 * 1 = 6\n",
      "6 * 2 = 12\n",
      "6 * 3 = 18\n",
      "6 * 4 = 24\n",
      "6 * 5 = 30\n",
      "6 * 6 = 36\n",
      "6 * 7 = 42\n",
      "6 * 8 = 48\n",
      "6 * 9 = 54\n",
      "--------------------\n",
      "7단\n",
      "7 * 1 = 7\n",
      "7 * 2 = 14\n",
      "7 * 3 = 21\n",
      "7 * 4 = 28\n",
      "7 * 5 = 35\n",
      "7 * 6 = 42\n",
      "7 * 7 = 49\n",
      "7 * 8 = 56\n",
      "7 * 9 = 63\n",
      "--------------------\n",
      "8단\n",
      "8 * 1 = 8\n",
      "8 * 2 = 16\n",
      "8 * 3 = 24\n",
      "8 * 4 = 32\n",
      "8 * 5 = 40\n",
      "8 * 6 = 48\n",
      "8 * 7 = 56\n",
      "8 * 8 = 64\n",
      "8 * 9 = 72\n",
      "--------------------\n",
      "9단\n",
      "9 * 1 = 9\n",
      "9 * 2 = 18\n",
      "9 * 3 = 27\n",
      "9 * 4 = 36\n",
      "9 * 5 = 45\n",
      "9 * 6 = 54\n",
      "9 * 7 = 63\n",
      "9 * 8 = 72\n",
      "9 * 9 = 81\n",
      "--------------------\n"
     ]
    }
   ],
   "source": [
    "for i in range(2,10):\n",
    "    print(\"%d단\"%i)\n",
    "    for j in range(1,10):\n",
    "        print(\"%d * %d = %d\"%(i,j, i*j))\n",
    "    print(\"-\"*20)"
   ]
  },
  {
   "cell_type": "markdown",
   "id": "41de2116-52df-4cbb-970c-9be00088053b",
   "metadata": {},
   "source": [
    "## 리스트 컴프리헨션(comprehansion)"
   ]
  },
  {
   "cell_type": "code",
   "execution_count": 14,
   "id": "cc5a9801-c24b-4f69-b8a6-414a01131e5f",
   "metadata": {},
   "outputs": [
    {
     "name": "stdout",
     "output_type": "stream",
     "text": [
      "[3, 6, 9, 12]\n"
     ]
    }
   ],
   "source": [
    "a = [1,2,3,4]\n",
    "result=[]\n",
    "for num in a:\n",
    "    result.append(num*3)\n",
    "print(result)"
   ]
  },
  {
   "cell_type": "code",
   "execution_count": 17,
   "id": "36956852-30fc-4312-9dd0-e68cbb596a10",
   "metadata": {},
   "outputs": [
    {
     "name": "stdout",
     "output_type": "stream",
     "text": [
      "[3, 6, 9, 12]\n"
     ]
    }
   ],
   "source": [
    "# 리스트 컴프리헨션으로 표현\n",
    "a = [1,2,3,4]\n",
    "result = [num*3 for num in a ]\n",
    "print(result)"
   ]
  },
  {
   "cell_type": "code",
   "execution_count": 19,
   "id": "1469c771-9b16-4da0-878d-1c509e2b9fb5",
   "metadata": {},
   "outputs": [
    {
     "name": "stdout",
     "output_type": "stream",
     "text": [
      "[6, 12]\n"
     ]
    }
   ],
   "source": [
    "# 리스트 컴프리헨션으로 표현\n",
    "a = [1,2,3,4]\n",
    "result = [num*3 for num in a if num % 2==0 ]\n",
    "print(result)"
   ]
  },
  {
   "cell_type": "code",
   "execution_count": 20,
   "id": "ba724593-6b49-45e3-967d-2b6cbdcf9086",
   "metadata": {},
   "outputs": [
    {
     "name": "stdout",
     "output_type": "stream",
     "text": [
      "[2, 4, 6, 8, 10, 12, 14, 16, 18, 3, 6, 9, 12, 15, 18, 21, 24, 27, 4, 8, 12, 16, 20, 24, 28, 32, 36, 5, 10, 15, 20, 25, 30, 35, 40, 45, 6, 12, 18, 24, 30, 36, 42, 48, 54, 7, 14, 21, 28, 35, 42, 49, 56, 63, 8, 16, 24, 32, 40, 48, 56, 64, 72, 9, 18, 27, 36, 45, 54, 63, 72, 81]\n"
     ]
    }
   ],
   "source": [
    "result = [x*y for x in range(2,10) for y in range(1,10)]\n",
    "print(result)"
   ]
  },
  {
   "cell_type": "markdown",
   "id": "1c614380-40ea-477a-866a-dba5bee83a4e",
   "metadata": {},
   "source": [
    "## 3. 리스트 컴프리헨션"
   ]
  },
  {
   "cell_type": "markdown",
   "id": "8a6e60bf-5b96-40ce-bd29-819b4f8ae87c",
   "metadata": {},
   "source": [
    "### 기본구조:[표현식 + for문]"
   ]
  },
  {
   "cell_type": "code",
   "execution_count": 21,
   "id": "a4ed2040-0a6b-428f-9887-00daaebaaa15",
   "metadata": {},
   "outputs": [
    {
     "name": "stdout",
     "output_type": "stream",
     "text": [
      "[0, 0, 0, 0, 0]\n"
     ]
    }
   ],
   "source": [
    "# 표현식에 변수 또는 상수를 쓰는 경우\n",
    "n = 5\n",
    "result = [0 for i in range(n)]\n",
    "print(result)"
   ]
  },
  {
   "cell_type": "code",
   "execution_count": 22,
   "id": "e3c773fe-8b39-44e4-a1b0-d28ab056ec78",
   "metadata": {},
   "outputs": [
    {
     "name": "stdout",
     "output_type": "stream",
     "text": [
      "[0, 1, 2, 3, 4]\n"
     ]
    }
   ],
   "source": [
    "result = [i for i in range(n)]\n",
    "print(result)"
   ]
  },
  {
   "cell_type": "code",
   "execution_count": 25,
   "id": "ef9f718e-fd47-4ab1-97d9-3589a07c6cb1",
   "metadata": {},
   "outputs": [
    {
     "name": "stdout",
     "output_type": "stream",
     "text": [
      "[0, 1, 2, 3, 4, 5, 6, 7, 8, 9]\n"
     ]
    }
   ],
   "source": [
    "array = list(range(10))\n",
    "result = [n for n in array]\n",
    "print(result)"
   ]
  },
  {
   "cell_type": "code",
   "execution_count": 26,
   "id": "3d48324e-d1d0-4694-b446-0eb854df6c6e",
   "metadata": {},
   "outputs": [
    {
     "name": "stdout",
     "output_type": "stream",
     "text": [
      "[0, 1, 4, 9, 16, 25, 36, 49, 64, 81]\n"
     ]
    }
   ],
   "source": [
    "# 표현식에 연산식이나 함수를 쓰는 경우\n",
    "result = [n*n for n in array]\n",
    "print(result)"
   ]
  },
  {
   "cell_type": "code",
   "execution_count": 28,
   "id": "397c42ba-922f-435f-840d-03ca2f137052",
   "metadata": {},
   "outputs": [
    {
     "name": "stdout",
     "output_type": "stream",
     "text": [
      "[4, 13, 6]\n"
     ]
    }
   ],
   "source": [
    "str_array = [\"List\",\"Comperhansion\", \"python\"]\n",
    "result = [len(string) for string in str_array]\n",
    "print(result)"
   ]
  },
  {
   "cell_type": "code",
   "execution_count": 30,
   "id": "7599c6e9-9438-4f6b-a2cb-551788219696",
   "metadata": {},
   "outputs": [
    {
     "name": "stdout",
     "output_type": "stream",
     "text": [
      "[0, 1, 2, 3, 4, 0, 1, 2, 3, 4]\n"
     ]
    }
   ],
   "source": [
    "def mod_5(number):\n",
    "    return number % 5\n",
    "result = [mod_5(n) for n in array]\n",
    "print(result)"
   ]
  },
  {
   "cell_type": "markdown",
   "id": "1dc0ffdc-d071-49dd-9089-482215dba19b",
   "metadata": {},
   "source": [
    "### 2) [표현식 + for문 + 조건문] "
   ]
  },
  {
   "cell_type": "code",
   "execution_count": 32,
   "id": "0718a518-1d44-4858-9950-dbcda813b16a",
   "metadata": {},
   "outputs": [
    {
     "name": "stdout",
     "output_type": "stream",
     "text": [
      "[0, 2, 4, 6, 8]\n"
     ]
    }
   ],
   "source": [
    "result = [n for n in range(10) if n%2==0] \n",
    "print(result)"
   ]
  },
  {
   "cell_type": "code",
   "execution_count": 33,
   "id": "045f6ae5-493a-4daf-9bab-2bb0ff33be57",
   "metadata": {},
   "outputs": [
    {
     "name": "stdout",
     "output_type": "stream",
     "text": [
      "[1, 3, 5, 7, 9]\n"
     ]
    }
   ],
   "source": [
    "result = [n for n in range(10) if n%2!=0] \n",
    "print(result)"
   ]
  },
  {
   "cell_type": "code",
   "execution_count": 35,
   "id": "9fe77610-6db8-4af7-b258-e60c959b354e",
   "metadata": {},
   "outputs": [
    {
     "name": "stdout",
     "output_type": "stream",
     "text": [
      "[24, 5, 2]\n"
     ]
    }
   ],
   "source": [
    "array = [-1,0-4,24,5,-10,2]\n",
    "result = [n for n in array if n > 0]\n",
    "print(result)"
   ]
  },
  {
   "cell_type": "code",
   "execution_count": 40,
   "id": "297c812c-f0bb-47fb-b6ff-69bee61a3d85",
   "metadata": {},
   "outputs": [
    {
     "name": "stdout",
     "output_type": "stream",
     "text": [
      "[3, 9, 15, 21, 27, 33, 39, 45]\n"
     ]
    }
   ],
   "source": [
    "#if 문 여러번 사용한 경우\n",
    "result = [n for n in range(50) if n%3 == 0 if n%2 !=0]\n",
    "print(result)"
   ]
  },
  {
   "cell_type": "code",
   "execution_count": 41,
   "id": "0e3ab9cd-e9a1-45c5-aca1-a6052361459d",
   "metadata": {},
   "outputs": [
    {
     "name": "stdout",
     "output_type": "stream",
     "text": [
      "[3, 9, 15, 21, 27, 33, 39, 45]\n"
     ]
    }
   ],
   "source": [
    "result = [n for n in range(50) if n%3 == 0 and n%2 !=0]\n",
    "print(result)"
   ]
  },
  {
   "cell_type": "markdown",
   "id": "39b23611-d743-4828-bb95-48bef1f1d3f4",
   "metadata": {},
   "source": [
    "### [표현식 + 조건문 + for문]"
   ]
  },
  {
   "cell_type": "code",
   "execution_count": 44,
   "id": "49db96ed-4c6b-4c5f-a735-5d78fc4266e4",
   "metadata": {},
   "outputs": [
    {
     "name": "stdout",
     "output_type": "stream",
     "text": [
      "[0, 0, 0, 24, 5, 0, 2]\n"
     ]
    }
   ],
   "source": [
    "array = [-1,0,-4,24,5,-10,2]\n",
    "result = [n if n>0 else 0 for n in array]\n",
    "print(result)"
   ]
  },
  {
   "cell_type": "code",
   "execution_count": 47,
   "id": "7fc1cf3e-d48e-4649-8ca9-28042388cd34",
   "metadata": {},
   "outputs": [
    {
     "name": "stdout",
     "output_type": "stream",
     "text": [
      "['even', 'add', 'even', 'add']\n"
     ]
    }
   ],
   "source": [
    "array = [0,1,2,3]\n",
    "result = ['even' if n % 2 == 0 else 'add' for n in array]\n",
    "print(result)"
   ]
  },
  {
   "cell_type": "markdown",
   "id": "e5f08426-d54f-48ca-80e8-c295fbde10e7",
   "metadata": {},
   "source": [
    "### 중첩 for문"
   ]
  },
  {
   "cell_type": "code",
   "execution_count": 49,
   "id": "f60cdae2-2181-4eec-af22-1e55b5d0af82",
   "metadata": {},
   "outputs": [
    {
     "name": "stdout",
     "output_type": "stream",
     "text": [
      "[1, 2, 2, 4, 3, 6]\n"
     ]
    }
   ],
   "source": [
    "pos = []\n",
    "for i in range(1,4):\n",
    "    for j in range(1,3):\n",
    "        pos.append(i*j)\n",
    "print(pos)        "
   ]
  },
  {
   "cell_type": "code",
   "execution_count": 51,
   "id": "87bd4d41-f81f-4efd-b471-c6950e34b91c",
   "metadata": {},
   "outputs": [
    {
     "name": "stdout",
     "output_type": "stream",
     "text": [
      "[1, 2, 2, 4, 3, 6]\n"
     ]
    }
   ],
   "source": [
    "pos = [i*j for i in range(1,4) for j in range(1,3)]\n",
    "print(pos)"
   ]
  },
  {
   "cell_type": "markdown",
   "id": "4d1b8642-5e30-4279-8ef6-0aad87d231ca",
   "metadata": {},
   "source": [
    "### 중첩 list comprehansion"
   ]
  },
  {
   "cell_type": "code",
   "execution_count": 55,
   "id": "95144460-c370-4043-8ff4-aad3fbc3946c",
   "metadata": {},
   "outputs": [
    {
     "name": "stdout",
     "output_type": "stream",
     "text": [
      "[[0, 0], [0, 0], [0, 0]]\n"
     ]
    }
   ],
   "source": [
    "result = [[0 for i in range(2)] for j in range(3)]\n",
    "print(result)"
   ]
  },
  {
   "cell_type": "code",
   "execution_count": null,
   "id": "245d33fa-adfd-4f70-bfe2-3e498a08069c",
   "metadata": {},
   "outputs": [],
   "source": []
  }
 ],
 "metadata": {
  "kernelspec": {
   "display_name": "Python 3 (ipykernel)",
   "language": "python",
   "name": "python3"
  },
  "language_info": {
   "codemirror_mode": {
    "name": "ipython",
    "version": 3
   },
   "file_extension": ".py",
   "mimetype": "text/x-python",
   "name": "python",
   "nbconvert_exporter": "python",
   "pygments_lexer": "ipython3",
   "version": "3.13.5"
  }
 },
 "nbformat": 4,
 "nbformat_minor": 5
}
