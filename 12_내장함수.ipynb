{
 "cells": [
  {
   "cell_type": "markdown",
   "id": "9679d96f-92fe-4123-8747-395c8fe7f4e7",
   "metadata": {},
   "source": [
    "abs(): 절대값"
   ]
  },
  {
   "cell_type": "code",
   "execution_count": 1,
   "id": "f55df256-dbc0-4fe1-8858-63380ce0ebc4",
   "metadata": {},
   "outputs": [
    {
     "name": "stdout",
     "output_type": "stream",
     "text": [
      "3\n",
      "3\n"
     ]
    }
   ],
   "source": [
    "print(abs(3))\n",
    "print(abs(-3))"
   ]
  },
  {
   "cell_type": "markdown",
   "id": "a6212eec-d105-49df-aa21-7e40d8095aa4",
   "metadata": {},
   "source": [
    "all() : 반복 가능한 데이터에서 요소 확인하여 모든 요소가 참이면 True(and 연산자 같음)"
   ]
  },
  {
   "cell_type": "code",
   "execution_count": 2,
   "id": "77fa8f1b-f96b-40ac-97b2-2517cf5b0db2",
   "metadata": {},
   "outputs": [
    {
     "data": {
      "text/plain": [
       "True"
      ]
     },
     "execution_count": 2,
     "metadata": {},
     "output_type": "execute_result"
    }
   ],
   "source": [
    "all([1,2,3])"
   ]
  },
  {
   "cell_type": "code",
   "execution_count": 4,
   "id": "05bb89d7-1b1f-45c7-8cbf-d4edbf10c619",
   "metadata": {},
   "outputs": [
    {
     "data": {
      "text/plain": [
       "False"
      ]
     },
     "execution_count": 4,
     "metadata": {},
     "output_type": "execute_result"
    }
   ],
   "source": [
    "all((0, [], \"\"))"
   ]
  },
  {
   "cell_type": "code",
   "execution_count": 5,
   "id": "ccc1c95e-8557-45aa-bec1-e907ddc7446c",
   "metadata": {},
   "outputs": [
    {
     "data": {
      "text/plain": [
       "True"
      ]
     },
     "execution_count": 5,
     "metadata": {},
     "output_type": "execute_result"
    }
   ],
   "source": [
    "all([])"
   ]
  },
  {
   "cell_type": "code",
   "execution_count": 6,
   "id": "025be77b-53dc-48ca-ac62-39077bd2cec6",
   "metadata": {},
   "outputs": [
    {
     "data": {
      "text/plain": [
       "True"
      ]
     },
     "execution_count": 6,
     "metadata": {},
     "output_type": "execute_result"
    }
   ],
   "source": [
    "all('')"
   ]
  },
  {
   "cell_type": "markdown",
   "id": "8ab5f25d-3a3e-4b8c-ac50-0a3a300212ad",
   "metadata": {},
   "source": [
    "any() : 반복 가능한 데이터에서 각 요소를 확인하여 하나라도 참이면 true(or연산자)"
   ]
  },
  {
   "cell_type": "code",
   "execution_count": 8,
   "id": "1579107f-e9ba-4fd8-af1d-721758654b94",
   "metadata": {},
   "outputs": [
    {
     "data": {
      "text/plain": [
       "True"
      ]
     },
     "execution_count": 8,
     "metadata": {},
     "output_type": "execute_result"
    }
   ],
   "source": [
    "any([1,0])"
   ]
  },
  {
   "cell_type": "code",
   "execution_count": 9,
   "id": "7e19c33d-5e3f-4092-8728-de9f692f88b2",
   "metadata": {},
   "outputs": [
    {
     "data": {
      "text/plain": [
       "False"
      ]
     },
     "execution_count": 9,
     "metadata": {},
     "output_type": "execute_result"
    }
   ],
   "source": [
    "any([0,''])"
   ]
  },
  {
   "cell_type": "code",
   "execution_count": 12,
   "id": "77d93c38-bbdb-4353-902b-6aa967da7d6d",
   "metadata": {},
   "outputs": [
    {
     "data": {
      "text/plain": [
       "False"
      ]
     },
     "execution_count": 12,
     "metadata": {},
     "output_type": "execute_result"
    }
   ],
   "source": [
    "any([]) # 빈 리스트는 false로 출력 둘중 하나라도 참이어야 하는데 빈 리스트는 참인지\n",
    "        # 거짓인지 구분을할수가 없어서 일단 거짓으로 출력"
   ]
  },
  {
   "cell_type": "markdown",
   "id": "fff55535-3dbf-4a0e-b3c3-081d5578a4ef",
   "metadata": {},
   "source": [
    "chr() : 유니코드를 기반으로 입력받은 숫자를 유니코드로 변환해서 문자를 출력해줌"
   ]
  },
  {
   "cell_type": "code",
   "execution_count": 14,
   "id": "e091f65b-7cd2-4eb3-994b-35d0034eb51a",
   "metadata": {},
   "outputs": [
    {
     "data": {
      "text/plain": [
       "'a'"
      ]
     },
     "execution_count": 14,
     "metadata": {},
     "output_type": "execute_result"
    }
   ],
   "source": [
    "chr(97)"
   ]
  },
  {
   "cell_type": "code",
   "execution_count": 17,
   "id": "56d42ced-e86a-4651-bcaa-b986a4004ceb",
   "metadata": {},
   "outputs": [
    {
     "data": {
      "text/plain": [
       "'n'"
      ]
     },
     "execution_count": 17,
     "metadata": {},
     "output_type": "execute_result"
    }
   ],
   "source": [
    "chr(110)"
   ]
  },
  {
   "cell_type": "code",
   "execution_count": 19,
   "id": "a44088ea-7860-4105-9599-8cacdf50e9a0",
   "metadata": {},
   "outputs": [
    {
     "data": {
      "text/plain": [
       "'가'"
      ]
     },
     "execution_count": 19,
     "metadata": {},
     "output_type": "execute_result"
    }
   ],
   "source": [
    "chr(44032)"
   ]
  },
  {
   "cell_type": "markdown",
   "id": "c9b23b4a-a7f7-4fb9-8263-27561b41b1d6",
   "metadata": {},
   "source": [
    "dir() : 객체가 지닌 변수나 함수를 보여주는 함수"
   ]
  },
  {
   "cell_type": "code",
   "execution_count": 20,
   "id": "ecae291c-7e96-4427-acd3-a24244323854",
   "metadata": {},
   "outputs": [
    {
     "data": {
      "text/plain": [
       "['__add__',\n",
       " '__class__',\n",
       " '__class_getitem__',\n",
       " '__contains__',\n",
       " '__delattr__',\n",
       " '__delitem__',\n",
       " '__dir__',\n",
       " '__doc__',\n",
       " '__eq__',\n",
       " '__format__',\n",
       " '__ge__',\n",
       " '__getattribute__',\n",
       " '__getitem__',\n",
       " '__getstate__',\n",
       " '__gt__',\n",
       " '__hash__',\n",
       " '__iadd__',\n",
       " '__imul__',\n",
       " '__init__',\n",
       " '__init_subclass__',\n",
       " '__iter__',\n",
       " '__le__',\n",
       " '__len__',\n",
       " '__lt__',\n",
       " '__mul__',\n",
       " '__ne__',\n",
       " '__new__',\n",
       " '__reduce__',\n",
       " '__reduce_ex__',\n",
       " '__repr__',\n",
       " '__reversed__',\n",
       " '__rmul__',\n",
       " '__setattr__',\n",
       " '__setitem__',\n",
       " '__sizeof__',\n",
       " '__str__',\n",
       " '__subclasshook__',\n",
       " 'append',\n",
       " 'clear',\n",
       " 'copy',\n",
       " 'count',\n",
       " 'extend',\n",
       " 'index',\n",
       " 'insert',\n",
       " 'pop',\n",
       " 'remove',\n",
       " 'reverse',\n",
       " 'sort']"
      ]
     },
     "execution_count": 20,
     "metadata": {},
     "output_type": "execute_result"
    }
   ],
   "source": [
    "dir([1,2,3])"
   ]
  },
  {
   "cell_type": "code",
   "execution_count": 24,
   "id": "d13864e0-770e-4f70-bf36-4985868e2fd7",
   "metadata": {},
   "outputs": [
    {
     "data": {
      "text/plain": [
       "['__add__',\n",
       " '__class__',\n",
       " '__contains__',\n",
       " '__delattr__',\n",
       " '__dir__',\n",
       " '__doc__',\n",
       " '__eq__',\n",
       " '__format__',\n",
       " '__ge__',\n",
       " '__getattribute__',\n",
       " '__getitem__',\n",
       " '__getnewargs__',\n",
       " '__getstate__',\n",
       " '__gt__',\n",
       " '__hash__',\n",
       " '__init__',\n",
       " '__init_subclass__',\n",
       " '__iter__',\n",
       " '__le__',\n",
       " '__len__',\n",
       " '__lt__',\n",
       " '__mod__',\n",
       " '__mul__',\n",
       " '__ne__',\n",
       " '__new__',\n",
       " '__reduce__',\n",
       " '__reduce_ex__',\n",
       " '__repr__',\n",
       " '__rmod__',\n",
       " '__rmul__',\n",
       " '__setattr__',\n",
       " '__sizeof__',\n",
       " '__str__',\n",
       " '__subclasshook__',\n",
       " 'capitalize',\n",
       " 'casefold',\n",
       " 'center',\n",
       " 'count',\n",
       " 'encode',\n",
       " 'endswith',\n",
       " 'expandtabs',\n",
       " 'find',\n",
       " 'format',\n",
       " 'format_map',\n",
       " 'index',\n",
       " 'isalnum',\n",
       " 'isalpha',\n",
       " 'isascii',\n",
       " 'isdecimal',\n",
       " 'isdigit',\n",
       " 'isidentifier',\n",
       " 'islower',\n",
       " 'isnumeric',\n",
       " 'isprintable',\n",
       " 'isspace',\n",
       " 'istitle',\n",
       " 'isupper',\n",
       " 'join',\n",
       " 'ljust',\n",
       " 'lower',\n",
       " 'lstrip',\n",
       " 'maketrans',\n",
       " 'partition',\n",
       " 'removeprefix',\n",
       " 'removesuffix',\n",
       " 'replace',\n",
       " 'rfind',\n",
       " 'rindex',\n",
       " 'rjust',\n",
       " 'rpartition',\n",
       " 'rsplit',\n",
       " 'rstrip',\n",
       " 'split',\n",
       " 'splitlines',\n",
       " 'startswith',\n",
       " 'strip',\n",
       " 'swapcase',\n",
       " 'title',\n",
       " 'translate',\n",
       " 'upper',\n",
       " 'zfill']"
      ]
     },
     "execution_count": 24,
     "metadata": {},
     "output_type": "execute_result"
    }
   ],
   "source": [
    "dir(str)"
   ]
  },
  {
   "cell_type": "code",
   "execution_count": 26,
   "id": "5687e34f-e0ad-4aae-afbe-c587c63317b1",
   "metadata": {},
   "outputs": [
    {
     "data": {
      "text/plain": [
       "['__class__',\n",
       " '__class_getitem__',\n",
       " '__contains__',\n",
       " '__delattr__',\n",
       " '__delitem__',\n",
       " '__dir__',\n",
       " '__doc__',\n",
       " '__eq__',\n",
       " '__format__',\n",
       " '__ge__',\n",
       " '__getattribute__',\n",
       " '__getitem__',\n",
       " '__getstate__',\n",
       " '__gt__',\n",
       " '__hash__',\n",
       " '__init__',\n",
       " '__init_subclass__',\n",
       " '__ior__',\n",
       " '__iter__',\n",
       " '__le__',\n",
       " '__len__',\n",
       " '__lt__',\n",
       " '__ne__',\n",
       " '__new__',\n",
       " '__or__',\n",
       " '__reduce__',\n",
       " '__reduce_ex__',\n",
       " '__repr__',\n",
       " '__reversed__',\n",
       " '__ror__',\n",
       " '__setattr__',\n",
       " '__setitem__',\n",
       " '__sizeof__',\n",
       " '__str__',\n",
       " '__subclasshook__',\n",
       " 'clear',\n",
       " 'copy',\n",
       " 'fromkeys',\n",
       " 'get',\n",
       " 'items',\n",
       " 'keys',\n",
       " 'pop',\n",
       " 'popitem',\n",
       " 'setdefault',\n",
       " 'update',\n",
       " 'values']"
      ]
     },
     "execution_count": 26,
     "metadata": {},
     "output_type": "execute_result"
    }
   ],
   "source": [
    "dir({})"
   ]
  },
  {
   "cell_type": "markdown",
   "id": "de30fd28-f3ba-4d68-9c96-0b00c727c625",
   "metadata": {},
   "source": [
    "divmod() : 두개의 숫자를 입력받고 나누기 후 몫과 나머지를 튜플로 반환"
   ]
  },
  {
   "cell_type": "code",
   "execution_count": 28,
   "id": "79fd593f-2e63-44a9-bed8-c48c20cc308f",
   "metadata": {},
   "outputs": [
    {
     "data": {
      "text/plain": [
       "(2, 1)"
      ]
     },
     "execution_count": 28,
     "metadata": {},
     "output_type": "execute_result"
    }
   ],
   "source": [
    "divmod(7,3)"
   ]
  },
  {
   "cell_type": "markdown",
   "id": "77f6938b-a76f-499f-bb7f-85ba957b55f8",
   "metadata": {},
   "source": [
    "enumerate() : 순서가 있는 데이터의 인덱스 값을 포함하는 enumerate 객체를 리턴"
   ]
  },
  {
   "cell_type": "code",
   "execution_count": 31,
   "id": "3c01299d-dee7-40c7-8304-900687e03267",
   "metadata": {},
   "outputs": [
    {
     "name": "stdout",
     "output_type": "stream",
     "text": [
      "0 body\n",
      "1 foo\n",
      "2 bar\n"
     ]
    }
   ],
   "source": [
    "for i, name in enumerate(['body','foo','bar']):\n",
    "    print(i, name)"
   ]
  },
  {
   "cell_type": "code",
   "execution_count": 48,
   "id": "8b54108e-c953-4728-bf22-16543b1e89d1",
   "metadata": {},
   "outputs": [
    {
     "name": "stdout",
     "output_type": "stream",
     "text": [
      "0 ('a', 1)\n",
      "1 ('b', 2)\n",
      "2 ('c', 3)\n"
     ]
    }
   ],
   "source": [
    "for i, item in enumerate({'a':1, 'b':2,'c':3}.items()):\n",
    "    print(i, item)  "
   ]
  },
  {
   "cell_type": "markdown",
   "id": "44a93944-2ff9-4e28-b392-2df2b02e933d",
   "metadata": {},
   "source": [
    "eval() : 표현식(문자열)을 실행한 결과 값을 리턴"
   ]
  },
  {
   "cell_type": "code",
   "execution_count": 39,
   "id": "2b3517c7-decb-4576-a7e0-f16e5c7cd23b",
   "metadata": {},
   "outputs": [
    {
     "name": "stdout",
     "output_type": "stream",
     "text": [
      "1+2\n"
     ]
    }
   ],
   "source": [
    "print(\"1+2\")"
   ]
  },
  {
   "cell_type": "code",
   "execution_count": 40,
   "id": "c08f2332-d981-40da-8096-3f59d8d4ed1b",
   "metadata": {},
   "outputs": [
    {
     "name": "stdout",
     "output_type": "stream",
     "text": [
      "3\n"
     ]
    }
   ],
   "source": [
    "print(eval(\"1+2\"))"
   ]
  },
  {
   "cell_type": "code",
   "execution_count": 42,
   "id": "53a2cb03-16be-4986-9bde-348f728049cb",
   "metadata": {},
   "outputs": [
    {
     "data": {
      "text/plain": [
       "'hia'"
      ]
     },
     "execution_count": 42,
     "metadata": {},
     "output_type": "execute_result"
    }
   ],
   "source": [
    "eval('\"hi\" +  \"a\"')"
   ]
  },
  {
   "cell_type": "code",
   "execution_count": 47,
   "id": "8e216548-f3c3-4f15-a1fb-a9f4f702cb44",
   "metadata": {},
   "outputs": [
    {
     "ename": "SyntaxError",
     "evalue": "invalid syntax (<string>, line 1)",
     "output_type": "error",
     "traceback": [
      "Traceback \u001b[1;36m(most recent call last)\u001b[0m:\n",
      "\u001b[0m  File \u001b[0;32m~\\anaconda3\\Lib\\site-packages\\IPython\\core\\interactiveshell.py:3577\u001b[0m in \u001b[0;35mrun_code\u001b[0m\n    exec(code_obj, self.user_global_ns, self.user_ns)\u001b[0m\n",
      "\u001b[1;36m  Cell \u001b[1;32mIn[47], line 1\u001b[1;36m\n\u001b[1;33m    eval(\"while True: pass\")\u001b[1;36m\n",
      "\u001b[1;36m  File \u001b[1;32m<string>:1\u001b[1;36m\u001b[0m\n\u001b[1;33m    while True: pass\u001b[0m\n\u001b[1;37m    ^\u001b[0m\n\u001b[1;31mSyntaxError\u001b[0m\u001b[1;31m:\u001b[0m invalid syntax\n"
     ]
    }
   ],
   "source": [
    "eval(\"while True: pass\")"
   ]
  },
  {
   "cell_type": "markdown",
   "id": "56914fa0-5eed-4ecb-989e-22fdde63e922",
   "metadata": {},
   "source": [
    "filter() : filter 안에서 정의한 함수의 결과값이 참인 것만 반환"
   ]
  },
  {
   "cell_type": "code",
   "execution_count": 53,
   "id": "f4a19aab-6777-4129-b5b6-4edc0ad99fc1",
   "metadata": {},
   "outputs": [
    {
     "name": "stdout",
     "output_type": "stream",
     "text": [
      "[1, 2, 6]\n"
     ]
    }
   ],
   "source": [
    "def positive(list):\n",
    "    result = []\n",
    "    for i in list:\n",
    "        if i > 0:\n",
    "            result.append(i)\n",
    "    return result\n",
    "print(positive([1,-3,2,0,-5,6]))"
   ]
  },
  {
   "cell_type": "code",
   "execution_count": 59,
   "id": "f37d3cb8-9777-455d-a8d3-7ecb1e1fca99",
   "metadata": {},
   "outputs": [
    {
     "name": "stdout",
     "output_type": "stream",
     "text": [
      "[1, 2, 6]\n"
     ]
    }
   ],
   "source": [
    "#filter함수로 양수값만 반환\n",
    "def positive(x):\n",
    "    return x > 0\n",
    "print(list(filter(positive,[1,-3,2,0,-5,6])))"
   ]
  },
  {
   "cell_type": "code",
   "execution_count": 61,
   "id": "a6e60a90-8d2f-4b09-9c9f-603fb3480483",
   "metadata": {},
   "outputs": [
    {
     "data": {
      "text/plain": [
       "[1, 2, 6]"
      ]
     },
     "execution_count": 61,
     "metadata": {},
     "output_type": "execute_result"
    }
   ],
   "source": [
    "#lambda 함수 사용\n",
    "list(filter(lambda x: x > 0,[1,-3,2,0,-5,6]))"
   ]
  },
  {
   "cell_type": "markdown",
   "id": "e0204282-ff6b-440d-af81-abdad15c0883",
   "metadata": {},
   "source": [
    "map() 맵 안에서 선언한 함수의 결과 값을 반환"
   ]
  },
  {
   "cell_type": "code",
   "execution_count": 63,
   "id": "2838fb52-55a8-4b1c-8233-a7c09ca505bb",
   "metadata": {},
   "outputs": [
    {
     "name": "stdout",
     "output_type": "stream",
     "text": [
      "[2, 4, 6, 8]\n"
     ]
    }
   ],
   "source": [
    "#일반함수 리스트의 각 요소마다 *2\n",
    "def two_times(numberList):\n",
    "    result = []\n",
    "    for number in numberList:\n",
    "        result.append(number*2)\n",
    "    return result\n",
    "result = two_times([1,2,3,4])\n",
    "print(result)"
   ]
  },
  {
   "cell_type": "code",
   "execution_count": 67,
   "id": "f6aeec75-2cd7-447e-babe-07c9f6ec815d",
   "metadata": {},
   "outputs": [
    {
     "data": {
      "text/plain": [
       "[2, 4, 6, 8]"
      ]
     },
     "execution_count": 67,
     "metadata": {},
     "output_type": "execute_result"
    }
   ],
   "source": [
    "# map 함수로 만들기\n",
    "def two_times(x):\n",
    "    return x*2\n",
    "list(map(two_times, [1,2,3,4]))\n"
   ]
  },
  {
   "cell_type": "code",
   "execution_count": 69,
   "id": "62a032f7-b018-49f8-80a6-3e82567675f6",
   "metadata": {},
   "outputs": [
    {
     "data": {
      "text/plain": [
       "[2, 4, 6, 8]"
      ]
     },
     "execution_count": 69,
     "metadata": {},
     "output_type": "execute_result"
    }
   ],
   "source": [
    "#Lambda 함수로\n",
    "list(map(lambda x: x*2, [1,2,3,4]))"
   ]
  },
  {
   "cell_type": "markdown",
   "id": "066aa9ea-34fe-4b53-b7a5-6eab5ab3e96e",
   "metadata": {},
   "source": [
    "hex() : 정수를 받아서 16진수로 변환 "
   ]
  },
  {
   "cell_type": "code",
   "execution_count": 70,
   "id": "5878a571-d6d7-4c4f-a666-846a64d4ea36",
   "metadata": {},
   "outputs": [
    {
     "name": "stdout",
     "output_type": "stream",
     "text": [
      "0xea\n",
      "0x3\n",
      "0xd\n"
     ]
    }
   ],
   "source": [
    "print(hex(234))\n",
    "print(hex(3))\n",
    "print(hex(13))"
   ]
  },
  {
   "cell_type": "markdown",
   "id": "2c95e4e6-23de-4d1a-b193-33508bd14ec9",
   "metadata": {},
   "source": [
    "id() : 객체의 고유 주소 값을 리턴 해줌 (주소값 찾기)"
   ]
  },
  {
   "cell_type": "code",
   "execution_count": 71,
   "id": "43fc9ebf-6bff-4de7-b8da-ca624968f60f",
   "metadata": {},
   "outputs": [
    {
     "data": {
      "text/plain": [
       "140735769129960"
      ]
     },
     "execution_count": 71,
     "metadata": {},
     "output_type": "execute_result"
    }
   ],
   "source": [
    "a = 3\n",
    "id(3)"
   ]
  },
  {
   "cell_type": "code",
   "execution_count": 72,
   "id": "7fd88a04-69fc-4a62-8785-86c169ab5bca",
   "metadata": {},
   "outputs": [
    {
     "data": {
      "text/plain": [
       "140735769129960"
      ]
     },
     "execution_count": 72,
     "metadata": {},
     "output_type": "execute_result"
    }
   ],
   "source": [
    "b = a\n",
    "id(b)"
   ]
  },
  {
   "cell_type": "markdown",
   "id": "3c83d683-246e-490e-a5c5-86bc811c6030",
   "metadata": {},
   "source": [
    "isinstance() : 객체가 그 클래스의 인스턴스인지 판단"
   ]
  },
  {
   "cell_type": "code",
   "execution_count": 74,
   "id": "d1cbf606-2b92-409a-9f60-79a5d0105764",
   "metadata": {},
   "outputs": [
    {
     "name": "stdout",
     "output_type": "stream",
     "text": [
      "True\n"
     ]
    }
   ],
   "source": [
    "class Person: pass\n",
    "a = Person() # a 는 Person의 인스턴스\n",
    "print(isinstance(a, Person))"
   ]
  },
  {
   "cell_type": "code",
   "execution_count": 75,
   "id": "cb38e9f8-921f-4436-becd-3347d040e523",
   "metadata": {},
   "outputs": [
    {
     "data": {
      "text/plain": [
       "False"
      ]
     },
     "execution_count": 75,
     "metadata": {},
     "output_type": "execute_result"
    }
   ],
   "source": [
    "b= 3\n",
    "isinstance(b, Person)"
   ]
  },
  {
   "cell_type": "markdown",
   "id": "9e5614eb-fed1-454f-a7b1-22a3d6590941",
   "metadata": {},
   "source": [
    "max() : 최대값\n",
    "min() : 최솟값"
   ]
  },
  {
   "cell_type": "code",
   "execution_count": 76,
   "id": "25ebe1d4-e5c2-47d1-a9d5-50ae50ce514f",
   "metadata": {},
   "outputs": [
    {
     "name": "stdout",
     "output_type": "stream",
     "text": [
      "3\n",
      "y\n"
     ]
    }
   ],
   "source": [
    "print(max([1,2,3]))\n",
    "print(max(\"python\"))"
   ]
  },
  {
   "cell_type": "code",
   "execution_count": 77,
   "id": "ada7dee9-ac01-4960-b5c4-fb14c82d462e",
   "metadata": {},
   "outputs": [
    {
     "name": "stdout",
     "output_type": "stream",
     "text": [
      "1\n",
      "h\n"
     ]
    }
   ],
   "source": [
    "print(min([1,2,3]))\n",
    "print(min(\"python\"))"
   ]
  },
  {
   "cell_type": "markdown",
   "id": "5993a39f-92fe-4ceb-8834-a3e3708b2805",
   "metadata": {},
   "source": [
    "ord() : chr()과는 반대로 문자를 유니코드 숫자로 변환시켜준다"
   ]
  },
  {
   "cell_type": "code",
   "execution_count": 79,
   "id": "7cdf0750-8e62-408b-b997-3e671dbe3ea5",
   "metadata": {},
   "outputs": [
    {
     "name": "stdout",
     "output_type": "stream",
     "text": [
      "97\n",
      "44032\n",
      "48\n"
     ]
    }
   ],
   "source": [
    "print(ord('a'))\n",
    "print(ord('가'))\n",
    "print(ord('0'))\n"
   ]
  },
  {
   "cell_type": "markdown",
   "id": "4514409d-6ab6-405a-a734-0c9d3354a65d",
   "metadata": {},
   "source": [
    "range()  : 범위의 값을 반복 가능한 객체로 만들어 리턴"
   ]
  },
  {
   "cell_type": "code",
   "execution_count": 80,
   "id": "1b7ed410-6a7a-4204-8eeb-a35b814d8ca0",
   "metadata": {},
   "outputs": [
    {
     "data": {
      "text/plain": [
       "[0, 1, 2, 3, 4]"
      ]
     },
     "execution_count": 80,
     "metadata": {},
     "output_type": "execute_result"
    }
   ],
   "source": [
    "# 인수가 하나일떄\n",
    "list(range(5))"
   ]
  },
  {
   "cell_type": "code",
   "execution_count": 81,
   "id": "d85769d8-ed33-4629-9cd5-37aa208203af",
   "metadata": {},
   "outputs": [
    {
     "data": {
      "text/plain": [
       "[5, 6, 7, 8, 9]"
      ]
     },
     "execution_count": 81,
     "metadata": {},
     "output_type": "execute_result"
    }
   ],
   "source": [
    "# 인수가 두개일떄\n",
    "list(range(5,10))"
   ]
  },
  {
   "cell_type": "code",
   "execution_count": 82,
   "id": "8ff217df-3681-46b5-aa22-5a4fe33da4b6",
   "metadata": {},
   "outputs": [
    {
     "data": {
      "text/plain": [
       "[1, 3, 5, 7, 9]"
      ]
     },
     "execution_count": 82,
     "metadata": {},
     "output_type": "execute_result"
    }
   ],
   "source": [
    "# 인수가 셋일떄\n",
    "list(range(1,10,2))"
   ]
  },
  {
   "cell_type": "code",
   "execution_count": 83,
   "id": "8e34a39e-f787-4a42-b94d-c7e5d5230d95",
   "metadata": {},
   "outputs": [
    {
     "data": {
      "text/plain": [
       "[0, -1, -2, -3, -4, -5, -6, -7, -8, -9]"
      ]
     },
     "execution_count": 83,
     "metadata": {},
     "output_type": "execute_result"
    }
   ],
   "source": [
    "list(range(0,-10,-1))"
   ]
  },
  {
   "cell_type": "markdown",
   "id": "ad58bae1-51e2-4429-8986-e4e56247160c",
   "metadata": {},
   "source": [
    "sorted() : 정렬한것을 리스트로 반환"
   ]
  },
  {
   "cell_type": "code",
   "execution_count": 84,
   "id": "d8611d0a-584d-4787-8f85-f716cc6fbd47",
   "metadata": {},
   "outputs": [
    {
     "data": {
      "text/plain": [
       "[1, 2, 3]"
      ]
     },
     "execution_count": 84,
     "metadata": {},
     "output_type": "execute_result"
    }
   ],
   "source": [
    "sorted([3,1,2])"
   ]
  },
  {
   "cell_type": "code",
   "execution_count": 85,
   "id": "1690e1fe-38a2-43ee-a27d-97aeee05358e",
   "metadata": {},
   "outputs": [
    {
     "data": {
      "text/plain": [
       "['a', 'b', 'c', 'd']"
      ]
     },
     "execution_count": 85,
     "metadata": {},
     "output_type": "execute_result"
    }
   ],
   "source": [
    "sorted(['a','b','d','c'])"
   ]
  },
  {
   "cell_type": "code",
   "execution_count": 88,
   "id": "15b7309e-0ebd-4472-800e-b29db4caf786",
   "metadata": {},
   "outputs": [
    {
     "data": {
      "text/plain": [
       "['e', 'o', 'r', 'z']"
      ]
     },
     "execution_count": 88,
     "metadata": {},
     "output_type": "execute_result"
    }
   ],
   "source": [
    "sorted('zero') # 입력 받으면 정렬해서 리스트로 반환"
   ]
  },
  {
   "cell_type": "markdown",
   "id": "9e60ddb9-9b16-4ad1-b57c-468d7f1839c3",
   "metadata": {},
   "source": [
    "zip() : 동일한 개수로 이루어진 반복되는 데이터를 묶어서 리턴 \n",
    "중요한점은 데이터의 짝이 맞아야함 a데이터가 3개, b가 2개면 2개만 출력되고 나머진 버려짐 "
   ]
  },
  {
   "cell_type": "code",
   "execution_count": 90,
   "id": "6f18e8cb-c2da-4e33-be1f-7ca715deb14d",
   "metadata": {},
   "outputs": [
    {
     "data": {
      "text/plain": [
       "[(1, 2), (2, 3), (3, 4)]"
      ]
     },
     "execution_count": 90,
     "metadata": {},
     "output_type": "execute_result"
    }
   ],
   "source": [
    "list(zip([1,2,3],[2,3,4]))"
   ]
  },
  {
   "cell_type": "code",
   "execution_count": 91,
   "id": "0405492c-99fb-4859-8eaa-769c68df829d",
   "metadata": {},
   "outputs": [
    {
     "data": {
      "text/plain": [
       "[(1, 6), (2, 7), (3, 8)]"
      ]
     },
     "execution_count": 91,
     "metadata": {},
     "output_type": "execute_result"
    }
   ],
   "source": [
    "list(zip([1,2,3,4,5],[6,7,8]))"
   ]
  },
  {
   "cell_type": "code",
   "execution_count": 92,
   "id": "4f92d28e-b0e6-4546-8b3b-74ee230a94a6",
   "metadata": {},
   "outputs": [
    {
     "data": {
      "text/plain": [
       "[('a', 'd'), ('b', 'e'), ('c', 'f')]"
      ]
     },
     "execution_count": 92,
     "metadata": {},
     "output_type": "execute_result"
    }
   ],
   "source": [
    "list(zip(\"abc\",\"def\"))"
   ]
  },
  {
   "cell_type": "code",
   "execution_count": 93,
   "id": "4590bbb9-dbca-497f-a645-d851bded9495",
   "metadata": {},
   "outputs": [
    {
     "data": {
      "text/plain": [
       "[(1, 4), (2, 5), (3, 6)]"
      ]
     },
     "execution_count": 93,
     "metadata": {},
     "output_type": "execute_result"
    }
   ],
   "source": [
    "list(zip((1,2,3),(4,5,6)))"
   ]
  },
  {
   "cell_type": "code",
   "execution_count": null,
   "id": "a13c4f29-f9f6-4a30-b613-62970d0a0f5d",
   "metadata": {},
   "outputs": [],
   "source": []
  }
 ],
 "metadata": {
  "kernelspec": {
   "display_name": "Python 3 (ipykernel)",
   "language": "python",
   "name": "python3"
  },
  "language_info": {
   "codemirror_mode": {
    "name": "ipython",
    "version": 3
   },
   "file_extension": ".py",
   "mimetype": "text/x-python",
   "name": "python",
   "nbconvert_exporter": "python",
   "pygments_lexer": "ipython3",
   "version": "3.13.5"
  },
  "widgets": {
   "application/vnd.jupyter.widget-state+json": {
    "state": {},
    "version_major": 2,
    "version_minor": 0
   }
  }
 },
 "nbformat": 4,
 "nbformat_minor": 5
}
