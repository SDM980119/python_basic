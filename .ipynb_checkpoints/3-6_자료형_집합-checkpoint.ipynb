{
 "cells": [
  {
   "cell_type": "markdown",
   "id": "bf48bda6-6cd3-4c83-87fd-b0057082a279",
   "metadata": {},
   "source": [
    "## 1. 집합은 어떻게 만들까요?\n"
   ]
  },
  {
   "cell_type": "code",
   "execution_count": null,
   "id": "15492d32-4c9c-4eb0-95f9-bfdef1b4c3a3",
   "metadata": {},
   "outputs": [],
   "source": [
    "s1= set([1,2,3])"
   ]
  }
 ],
 "metadata": {
  "kernelspec": {
   "display_name": "Python 3 (ipykernel)",
   "language": "python",
   "name": "python3"
  },
  "language_info": {
   "codemirror_mode": {
    "name": "ipython",
    "version": 3
   },
   "file_extension": ".py",
   "mimetype": "text/x-python",
   "name": "python",
   "nbconvert_exporter": "python",
   "pygments_lexer": "ipython3",
   "version": "3.13.5"
  }
 },
 "nbformat": 4,
 "nbformat_minor": 5
}
