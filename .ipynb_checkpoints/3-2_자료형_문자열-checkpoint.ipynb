{
 "cells": [
  {
   "cell_type": "markdown",
   "id": "fa5f62ec-cd44-4e79-b1e3-8e25292f1cd0",
   "metadata": {},
   "source": [
    "## 3-2 자료형 - 문자열"
   ]
  },
  {
   "cell_type": "code",
   "execution_count": 10,
   "id": "d57c7a18-3264-437e-8574-3b486f42c7ad",
   "metadata": {},
   "outputs": [
    {
     "name": "stdout",
     "output_type": "stream",
     "text": [
      "python's favorite food is perl\n",
      "<class 'str'>\n"
     ]
    }
   ],
   "source": [
    "    food = \"python's favorite food is perl\"\n",
    "    print(food)\n",
    "    print (type(food))"
   ]
  },
  {
   "cell_type": "code",
   "execution_count": 13,
   "id": "b1d4e575-60cf-4007-90da-1775f1aa3a1b",
   "metadata": {},
   "outputs": [
    {
     "name": "stdout",
     "output_type": "stream",
     "text": [
      "python's favorite food is perl\n",
      "<class 'str'>\n"
     ]
    }
   ],
   "source": [
    "food = 'python\\'s favorite food is perl'\n",
    "print(food)\n",
    "print (type(food))"
   ]
  },
  {
   "cell_type": "code",
   "execution_count": 14,
   "id": "6d4d0592-09de-40b6-8c84-04ce93796234",
   "metadata": {},
   "outputs": [
    {
     "name": "stdout",
     "output_type": "stream",
     "text": [
      "\"Python is very easy.\"he says\n",
      "<class 'type'>\n"
     ]
    }
   ],
   "source": [
    "say = '\"Python is very easy.\"he says'\n",
    "print(say)\n",
    "print(type)"
   ]
  },
  {
   "cell_type": "code",
   "execution_count": 15,
   "id": "71f24d61-4de8-4244-86cd-7cadfd664630",
   "metadata": {},
   "outputs": [
    {
     "name": "stdout",
     "output_type": "stream",
     "text": [
      "\"Python is very easy.\"he says\n",
      "<class 'type'>\n"
     ]
    }
   ],
   "source": [
    "say = \"\\\"Python is very easy.\\\"he says\"\n",
    "print(say)\n",
    "print(type)"
   ]
  },
  {
   "cell_type": "markdown",
   "id": "926db4e4-5cfa-41cf-b99e-21fd181d52b7",
   "metadata": {},
   "source": [
    "## 여러줄 문자열"
   ]
  },
  {
   "cell_type": "code",
   "execution_count": 21,
   "id": "8537a169-b074-4830-b7ba-acf7739334d7",
   "metadata": {},
   "outputs": [
    {
     "name": "stdout",
     "output_type": "stream",
     "text": [
      "Life is too hort You need python\n"
     ]
    }
   ],
   "source": [
    "multiline = \"Life is too hort You need python\"\n",
    "print(multiline)"
   ]
  },
  {
   "cell_type": "code",
   "execution_count": 18,
   "id": "ef6dd570-1622-4c7a-9232-217e61855976",
   "metadata": {},
   "outputs": [
    {
     "name": "stdout",
     "output_type": "stream",
     "text": [
      "Life is too hort\n",
      " You need python\n"
     ]
    }
   ],
   "source": [
    "multiline = \"Life is too hort\\n You need python\"\n",
    "print(multiline)"
   ]
  },
  {
   "cell_type": "code",
   "execution_count": 20,
   "id": "1e2210cf-9473-4435-8c4b-8dbf807c53ff",
   "metadata": {},
   "outputs": [
    {
     "name": "stdout",
     "output_type": "stream",
     "text": [
      "Life is too hor\n",
      "t You need python\n"
     ]
    }
   ],
   "source": [
    "multiline = \"\"\"Life is too hor\n",
    "t You need python\"\"\"\n",
    "print(multiline)"
   ]
  },
  {
   "cell_type": "code",
   "execution_count": 24,
   "id": "58bcad6b-4d3d-4582-95b0-375d7c9ab510",
   "metadata": {},
   "outputs": [
    {
     "name": "stdout",
     "output_type": "stream",
     "text": [
      "Life is too hort\n",
      "You need python\n"
     ]
    }
   ],
   "source": [
    "multiline = '''Life is too hort\n",
    "You need python'''\n",
    "print(multiline)"
   ]
  },
  {
   "cell_type": "markdown",
   "id": "762aceba-10f8-4fb6-8ce7-e2579598f90f",
   "metadata": {},
   "source": [
    "### 문자열 연산하기"
   ]
  },
  {
   "cell_type": "code",
   "execution_count": 26,
   "id": "377aac99-a94f-46b6-9472-a4732956ac82",
   "metadata": {},
   "outputs": [
    {
     "name": "stdout",
     "output_type": "stream",
     "text": [
      "Python is fun!\n"
     ]
    }
   ],
   "source": [
    "head = \"Python\"\n",
    "tail = \" is fun!\"\n",
    "print(head + tail)\n"
   ]
  },
  {
   "cell_type": "code",
   "execution_count": 30,
   "id": "379c7f60-0049-4ebf-b2a0-c3c22c8aa441",
   "metadata": {},
   "outputs": [
    {
     "name": "stdout",
     "output_type": "stream",
     "text": [
      "Python Python \n"
     ]
    }
   ],
   "source": [
    "a = \"Python \"\n",
    "\n",
    "print(a*2)"
   ]
  },
  {
   "cell_type": "code",
   "execution_count": 28,
   "id": "ee398155-76a9-424c-85e9-548ab42fc6d3",
   "metadata": {},
   "outputs": [
    {
     "name": "stdout",
     "output_type": "stream",
     "text": [
      "==================================================\n",
      "My Program\n",
      "==================================================\n"
     ]
    }
   ],
   "source": [
    "print(\"=\"*50)\n",
    "print(\"My Program\")\n",
    "print(\"=\"*50)"
   ]
  },
  {
   "cell_type": "markdown",
   "id": "daa2a528-464b-4177-a136-a3e20519b8bc",
   "metadata": {},
   "source": [
    "### 문자열 길이 구하기\n"
   ]
  },
  {
   "cell_type": "code",
   "execution_count": 29,
   "id": "6d5c734b-ca34-4305-8a42-433cad36e294",
   "metadata": {},
   "outputs": [
    {
     "data": {
      "text/plain": [
       "17"
      ]
     },
     "execution_count": 29,
     "metadata": {},
     "output_type": "execute_result"
    }
   ],
   "source": [
    "a = \"Life is too short\"\n",
    "len(a)"
   ]
  },
  {
   "cell_type": "code",
   "execution_count": 36,
   "id": "e4884c61-b78d-4aa4-aecb-515ffff969a4",
   "metadata": {},
   "outputs": [
    {
     "data": {
      "text/plain": [
       "3"
      ]
     },
     "execution_count": 36,
     "metadata": {},
     "output_type": "execute_result"
    }
   ],
   "source": [
    "a = \"배고파\"\n",
    "len(a   )"
   ]
  },
  {
   "cell_type": "markdown",
   "id": "0934cb97-da96-4ca1-96e0-ebc881590762",
   "metadata": {},
   "source": [
    "### 문자열 인덱싱과 슬라이싱"
   ]
  },
  {
   "cell_type": "code",
   "execution_count": 32,
   "id": "a0767478-d0c4-4d48-969f-04a8acb7bba3",
   "metadata": {},
   "outputs": [
    {
     "data": {
      "text/plain": [
       "'e'"
      ]
     },
     "execution_count": 32,
     "metadata": {},
     "output_type": "execute_result"
    }
   ],
   "source": [
    "        a=\"Life is too short, You need Python\"\n",
    "a[3]"
   ]
  },
  {
   "cell_type": "code",
   "execution_count": 40,
   "id": "9306f731-5147-423f-91dd-9f22abce895e",
   "metadata": {},
   "outputs": [
    {
     "name": "stdout",
     "output_type": "stream",
     "text": [
      "L\n",
      "s\n",
      "n\n",
      "o\n",
      "y\n"
     ]
    }
   ],
   "source": [
    "a=\"Life is too short, You need Python\"\n",
    "print(a[0])\n",
    "print(a[12])\n",
    "print(a[-1])\n",
    "print(a[-2])\n",
    "print(a[-5])"
   ]
  },
  {
   "cell_type": "markdown",
   "id": "e850f945-4274-46f0-b48e-d5367e5aff78",
   "metadata": {},
   "source": [
    "문자열 슬라이싱은 그냥 원하는 문자를 찾는 방법\n",
    "\n",
    "len 은 문자열의 길이(공백포함)를 알려준다\n",
    "\n",
    "거기서 a[?] 를 통해서 원하는 위치이 문자를 찾을수 있고\n",
    "\n",
    "a[?:?]를 사용하면 시작위치와 종료위치를 지정해서 그 사이 문자를 추출할수 있다\n",
    "\n",
    "a[?:-?]를 사용하면 지정한 부분의 문자만 지우고 출력가능\n"
   ]
  },
  {
   "cell_type": "code",
   "execution_count": 41,
   "id": "1a5cd695-5395-434f-816e-c66394fb3ac6",
   "metadata": {},
   "outputs": [
    {
     "data": {
      "text/plain": [
       "'Life'"
      ]
     },
     "execution_count": 41,
     "metadata": {},
     "output_type": "execute_result"
    }
   ],
   "source": [
    "a=\"Life is too short, You need Python\"\n",
    "b=a[0]+a[1]+a[2]+a[3]\n",
    "b"
   ]
  },
  {
   "cell_type": "code",
   "execution_count": 42,
   "id": "014b0e41-9e6e-4dee-bdf2-ebef6efb1235",
   "metadata": {},
   "outputs": [
    {
     "data": {
      "text/plain": [
       "'Life'"
      ]
     },
     "execution_count": 42,
     "metadata": {},
     "output_type": "execute_result"
    }
   ],
   "source": [
    "a=\"Life is too short, You need Python\"\n",
    "a[0:4]\n"
   ]
  },
  {
   "cell_type": "code",
   "execution_count": 43,
   "id": "22431527-d251-4e55-8332-3f4953c9302a",
   "metadata": {},
   "outputs": [
    {
     "data": {
      "text/plain": [
       "'need'"
      ]
     },
     "execution_count": 43,
     "metadata": {},
     "output_type": "execute_result"
    }
   ],
   "source": [
    "a[23:27]"
   ]
  },
  {
   "cell_type": "code",
   "execution_count": 44,
   "id": "3fb109f2-91dc-467d-8ce6-c0021d9d3388",
   "metadata": {},
   "outputs": [
    {
     "data": {
      "text/plain": [
       "'Python'"
      ]
     },
     "execution_count": 44,
     "metadata": {},
     "output_type": "execute_result"
    }
   ],
   "source": [
    "a[28:34]"
   ]
  },
  {
   "cell_type": "code",
   "execution_count": 45,
   "id": "96d00216-0f33-417e-958e-5798843409fb",
   "metadata": {},
   "outputs": [
    {
     "data": {
      "text/plain": [
       "'Python'"
      ]
     },
     "execution_count": 45,
     "metadata": {},
     "output_type": "execute_result"
    }
   ],
   "source": [
    "a[28:]"
   ]
  },
  {
   "cell_type": "code",
   "execution_count": 46,
   "id": "00f6bd4b-f2f5-4541-87b2-97c066df22e4",
   "metadata": {},
   "outputs": [
    {
     "data": {
      "text/plain": [
       "'Life'"
      ]
     },
     "execution_count": 46,
     "metadata": {},
     "output_type": "execute_result"
    }
   ],
   "source": [
    "a[:4]"
   ]
  },
  {
   "cell_type": "code",
   "execution_count": 47,
   "id": "5286473a-a7e1-4d94-a860-078387135b57",
   "metadata": {},
   "outputs": [
    {
     "data": {
      "text/plain": [
       "'Life is too short'"
      ]
     },
     "execution_count": 47,
     "metadata": {},
     "output_type": "execute_result"
    }
   ],
   "source": [
    "a[:17]"
   ]
  },
  {
   "cell_type": "code",
   "execution_count": 48,
   "id": "d2fc356e-1ba9-47fa-888c-a04b0e653fd8",
   "metadata": {},
   "outputs": [
    {
     "data": {
      "text/plain": [
       "'You need'"
      ]
     },
     "execution_count": 48,
     "metadata": {},
     "output_type": "execute_result"
    }
   ],
   "source": [
    "a[19:-7]"
   ]
  },
  {
   "cell_type": "code",
   "execution_count": 52,
   "id": "5877f07c-3393-464e-b5f9-83342c8444e5",
   "metadata": {},
   "outputs": [
    {
     "name": "stdout",
     "output_type": "stream",
     "text": [
      "20230331\n",
      "Rainy\n"
     ]
    }
   ],
   "source": [
    "a=\"20230331Rainy\"\n",
    "data = a[:8]\n",
    "weather=a[8:]\n",
    "print(data)\n",
    "print(weather)"
   ]
  },
  {
   "cell_type": "markdown",
   "id": "7d830caa-deff-4d8e-a278-3ff743f11384",
   "metadata": {},
   "source": [
    "### Pithon 문자열을 Python으로 바꾸는 법(문자열 사이에 문자 추가하는 방법)"
   ]
  },
  {
   "cell_type": "code",
   "execution_count": 3,
   "id": "e79703c9-87a4-4bce-a877-731762c94794",
   "metadata": {},
   "outputs": [
    {
     "ename": "TypeError",
     "evalue": "'str' object does not support item assignment",
     "output_type": "error",
     "traceback": [
      "\u001b[1;31m---------------------------------------------------------------------------\u001b[0m",
      "\u001b[1;31mTypeError\u001b[0m                                 Traceback (most recent call last)",
      "Cell \u001b[1;32mIn[3], line 3\u001b[0m\n\u001b[0;32m      1\u001b[0m a\u001b[38;5;241m=\u001b[39m\u001b[38;5;124m\"\u001b[39m\u001b[38;5;124mPithon\u001b[39m\u001b[38;5;124m\"\u001b[39m\n\u001b[0;32m      2\u001b[0m a[\u001b[38;5;241m1\u001b[39m]\n\u001b[1;32m----> 3\u001b[0m a[\u001b[38;5;241m1\u001b[39m]\u001b[38;5;241m=\u001b[39m\u001b[38;5;124m'\u001b[39m\u001b[38;5;124mY\u001b[39m\u001b[38;5;124m'\u001b[39m\n",
      "\u001b[1;31mTypeError\u001b[0m: 'str' object does not support item assignment"
     ]
    }
   ],
   "source": [
    "a=\"Pithon\"\n",
    "a[1]\n",
    "a[1]='Y'"
   ]
  },
  {
   "cell_type": "code",
   "execution_count": 7,
   "id": "80c2f5ed-b843-4004-8324-c3e975a3cd60",
   "metadata": {},
   "outputs": [
    {
     "name": "stdout",
     "output_type": "stream",
     "text": [
      "Python\n"
     ]
    }
   ],
   "source": [
    "a='Pithon'\n",
    "print(a[0]+'y'+a[2:])"
   ]
  },
  {
   "cell_type": "code",
   "execution_count": 8,
   "id": "a8de4124-bc45-4717-b013-27efb11048ca",
   "metadata": {},
   "outputs": [
    {
     "name": "stdout",
     "output_type": "stream",
     "text": [
      "Python\n"
     ]
    }
   ],
   "source": [
    "b=a[0]+'y'+a[2:]\n",
    "print(b)"
   ]
  },
  {
   "cell_type": "markdown",
   "id": "e4035ea8-f82e-476a-911d-2499fe9d8b76",
   "metadata": {},
   "source": [
    "### 문자열 포매팅"
   ]
  },
  {
   "cell_type": "code",
   "execution_count": 9,
   "id": "50a63bca-f8ac-463c-b2ae-c38448d1f3f9",
   "metadata": {},
   "outputs": [
    {
     "data": {
      "text/plain": [
       "'l eat 3 apples.'"
      ]
     },
     "execution_count": 9,
     "metadata": {},
     "output_type": "execute_result"
    }
   ],
   "source": [
    "\"l eat %d apples.\" %3"
   ]
  },
  {
   "cell_type": "code",
   "execution_count": 10,
   "id": "dad0a931-4f6a-404f-a10e-f3f9f46ab7c3",
   "metadata": {},
   "outputs": [
    {
     "ename": "NameError",
     "evalue": "name 'ᄆ' is not defined",
     "output_type": "error",
     "traceback": [
      "\u001b[1;31m---------------------------------------------------------------------------\u001b[0m",
      "\u001b[1;31mNameError\u001b[0m                                 Traceback (most recent call last)",
      "Cell \u001b[1;32mIn[10], line 1\u001b[0m\n\u001b[1;32m----> 1\u001b[0m \u001b[38;5;124m\"\u001b[39m\u001b[38;5;124ml eat \u001b[39m\u001b[38;5;132;01m%d\u001b[39;00m\u001b[38;5;124m apples.\u001b[39m\u001b[38;5;124m\"\u001b[39m \u001b[38;5;241m%\u001b[39mㅁ\n",
      "\u001b[1;31mNameError\u001b[0m: name 'ᄆ' is not defined"
     ]
    }
   ],
   "source": [
    "\"l eat %d apples.\" %ㅁ"
   ]
  },
  {
   "cell_type": "code",
   "execution_count": null,
   "id": "ecbfb8a9-7330-440d-9468-86cac06bbace",
   "metadata": {},
   "outputs": [],
   "source": [
    "\"l eat %s apples.\" %\"ㅇㅇ\""
   ]
  },
  {
   "cell_type": "code",
   "execution_count": 13,
   "id": "b3206f92-8ea7-4568-9a16-6db5bc8121b9",
   "metadata": {},
   "outputs": [
    {
     "data": {
      "text/plain": [
       "'l eat 5 apples.'"
      ]
     },
     "execution_count": 13,
     "metadata": {},
     "output_type": "execute_result"
    }
   ],
   "source": [
    "\"l eat %s apples.\" %5"
   ]
  },
  {
   "cell_type": "code",
   "execution_count": 15,
   "id": "1acfd88d-1fd7-4267-818d-130130ff27ce",
   "metadata": {},
   "outputs": [
    {
     "data": {
      "text/plain": [
       "'l eat 10 apples.'"
      ]
     },
     "execution_count": 15,
     "metadata": {},
     "output_type": "execute_result"
    }
   ],
   "source": [
    "number=10\n",
    "\"l eat %d apples.\" %number"
   ]
  },
  {
   "cell_type": "code",
   "execution_count": 16,
   "id": "e208732f-e8bd-4568-ae3c-2fe7bd40ef8d",
   "metadata": {},
   "outputs": [
    {
     "data": {
      "text/plain": [
       "'I eat 10 apples, so i was sick for 3.'"
      ]
     },
     "execution_count": 16,
     "metadata": {},
     "output_type": "execute_result"
    }
   ],
   "source": [
    "num=10\n",
    "day=3\n",
    "\"I eat %d apples, so i was sick for %s.\" %(num , day)"
   ]
  },
  {
   "cell_type": "code",
   "execution_count": 18,
   "id": "92a2732e-46d3-4b2f-89b4-b2a8ed442265",
   "metadata": {},
   "outputs": [
    {
     "ename": "ValueError",
     "evalue": "incomplete format",
     "output_type": "error",
     "traceback": [
      "\u001b[1;31m---------------------------------------------------------------------------\u001b[0m",
      "\u001b[1;31mValueError\u001b[0m                                Traceback (most recent call last)",
      "Cell \u001b[1;32mIn[18], line 2\u001b[0m\n\u001b[0;32m      1\u001b[0m \u001b[38;5;66;03m# 포멧코드와 문자%를 같이 사용\u001b[39;00m\n\u001b[1;32m----> 2\u001b[0m \u001b[38;5;124m\"\u001b[39m\u001b[38;5;124mError is \u001b[39m\u001b[38;5;132;01m%d\u001b[39;00m\u001b[38;5;124m%\u001b[39m\u001b[38;5;124m.\u001b[39m\u001b[38;5;124m\"\u001b[39m \u001b[38;5;241m%\u001b[39m\u001b[38;5;241m98\u001b[39m\n",
      "\u001b[1;31mValueError\u001b[0m: incomplete format"
     ]
    }
   ],
   "source": [
    "# 포멧코드와 문자%를 같이 사용\n",
    "\"Error is %d%.\" %98"
   ]
  },
  {
   "cell_type": "code",
   "execution_count": 19,
   "id": "d03db404-0459-41ba-b1c6-75ca5fdb2ecd",
   "metadata": {},
   "outputs": [
    {
     "data": {
      "text/plain": [
       "'Error is 98%.'"
      ]
     },
     "execution_count": 19,
     "metadata": {},
     "output_type": "execute_result"
    }
   ],
   "source": [
    "\"Error is %d%%.\" %98"
   ]
  },
  {
   "cell_type": "code",
   "execution_count": 24,
   "id": "c2825ccc-fe53-4953-9238-68ac32ea682f",
   "metadata": {},
   "outputs": [
    {
     "name": "stdout",
     "output_type": "stream",
     "text": [
      "'        hi'\n"
     ]
    }
   ],
   "source": [
    "a=\"'%10s'\"%\"hi\"\n",
    "print(a)"
   ]
  },
  {
   "cell_type": "code",
   "execution_count": 25,
   "id": "c6d3acf7-e155-454d-856c-d1c073f36e54",
   "metadata": {},
   "outputs": [
    {
     "data": {
      "text/plain": [
       "12"
      ]
     },
     "execution_count": 25,
     "metadata": {},
     "output_type": "execute_result"
    }
   ],
   "source": [
    "len(a)"
   ]
  },
  {
   "cell_type": "code",
   "execution_count": 28,
   "id": "eacde485-fac2-4bac-ba8f-e025d038f28d",
   "metadata": {},
   "outputs": [
    {
     "data": {
      "text/plain": [
       "'hi        '"
      ]
     },
     "execution_count": 28,
     "metadata": {},
     "output_type": "execute_result"
    }
   ],
   "source": [
    "a=\"%-10s\"%\"hi\"\n",
    "a"
   ]
  },
  {
   "cell_type": "code",
   "execution_count": 31,
   "id": "9e15ca7c-f0f4-4f12-b5d2-1dcec1f761ea",
   "metadata": {},
   "outputs": [
    {
     "data": {
      "text/plain": [
       "'3.4213'"
      ]
     },
     "execution_count": 31,
     "metadata": {},
     "output_type": "execute_result"
    }
   ],
   "source": [
    "\"%0.4f\"%3.42134234"
   ]
  },
  {
   "cell_type": "code",
   "execution_count": 33,
   "id": "a1096e36-1d0d-4a1a-af45-d9ab7f79999f",
   "metadata": {},
   "outputs": [
    {
     "data": {
      "text/plain": [
       "'    3.4213'"
      ]
     },
     "execution_count": 33,
     "metadata": {},
     "output_type": "execute_result"
    }
   ],
   "source": [
    "a=\"%10.4f\"%3.42134234\n",
    "a"
   ]
  },
  {
   "cell_type": "code",
   "execution_count": 35,
   "id": "7a4bb3a0-dde7-4edb-a71a-45536cdc0441",
   "metadata": {},
   "outputs": [
    {
     "data": {
      "text/plain": [
       "10"
      ]
     },
     "execution_count": 35,
     "metadata": {},
     "output_type": "execute_result"
    }
   ],
   "source": [
    "len(a)"
   ]
  },
  {
   "cell_type": "code",
   "execution_count": 37,
   "id": "bac50e1b-a742-4322-8b42-67dd6449827b",
   "metadata": {},
   "outputs": [
    {
     "data": {
      "text/plain": [
       "'i eat 3 apples'"
      ]
     },
     "execution_count": 37,
     "metadata": {},
     "output_type": "execute_result"
    }
   ],
   "source": [
    "\"i eat {} apples\".format(3)"
   ]
  },
  {
   "cell_type": "code",
   "execution_count": 40,
   "id": "cb2be451-85a0-4ec1-8953-47532eb7c7be",
   "metadata": {},
   "outputs": [
    {
     "data": {
      "text/plain": [
       "'i eat five apples'"
      ]
     },
     "execution_count": 40,
     "metadata": {},
     "output_type": "execute_result"
    }
   ],
   "source": [
    "\"i eat {} apples\".format(\"five\")"
   ]
  },
  {
   "cell_type": "code",
   "execution_count": 43,
   "id": "644f0ed7-4680-41db-9914-b5304aa78740",
   "metadata": {},
   "outputs": [
    {
     "data": {
      "text/plain": [
       "'i eat 3 apples'"
      ]
     },
     "execution_count": 43,
     "metadata": {},
     "output_type": "execute_result"
    }
   ],
   "source": [
    "number=3\n",
    "\"i eat {} apples\".format(number)"
   ]
  },
  {
   "cell_type": "code",
   "execution_count": 49,
   "id": "2671cde1-78b5-448b-9819-5a3328c55747",
   "metadata": {},
   "outputs": [
    {
     "data": {
      "text/plain": [
       "'i eat 10 apples, so i was sick for three days.'"
      ]
     },
     "execution_count": 49,
     "metadata": {},
     "output_type": "execute_result"
    }
   ],
   "source": [
    "\"i eat {} apples, so i was sick for {} days.\".format(10, \"three\")"
   ]
  },
  {
   "cell_type": "code",
   "execution_count": 51,
   "id": "72e659c9-0d46-49dc-a8a8-d209e0eeddb8",
   "metadata": {},
   "outputs": [
    {
     "data": {
      "text/plain": [
       "'i eat three apples, so i was sick for 10 days.'"
      ]
     },
     "execution_count": 51,
     "metadata": {},
     "output_type": "execute_result"
    }
   ],
   "source": [
    "\"i eat {1} apples, so i was sick for {0} days.\".format(10, \"three\")"
   ]
  },
  {
   "cell_type": "code",
   "execution_count": 56,
   "id": "72b1acfc-e203-4b2f-aacf-4c6872fa1790",
   "metadata": {},
   "outputs": [
    {
     "data": {
      "text/plain": [
       "'i eat 10 apples, so i was sick for 3 days.'"
      ]
     },
     "execution_count": 56,
     "metadata": {},
     "output_type": "execute_result"
    }
   ],
   "source": [
    "number=10\n",
    "day=3\n",
    "\"i eat {number} apples, so i was sick for {day} days.\".format(number=number, day=day)\n"
   ]
  },
  {
   "cell_type": "code",
   "execution_count": 61,
   "id": "d2358638-73c5-4f5f-8c44-f47e570fef79",
   "metadata": {},
   "outputs": [
    {
     "data": {
      "text/plain": [
       "'hi        '"
      ]
     },
     "execution_count": 61,
     "metadata": {},
     "output_type": "execute_result"
    }
   ],
   "source": [
    "\"{:10}\".format('hi')"
   ]
  },
  {
   "cell_type": "code",
   "execution_count": 64,
   "id": "e734a4a0-2e22-4f0d-8638-995768859f3a",
   "metadata": {},
   "outputs": [
    {
     "data": {
      "text/plain": [
       "'        hi'"
      ]
     },
     "execution_count": 64,
     "metadata": {},
     "output_type": "execute_result"
    }
   ],
   "source": [
    "\"{:>10}\".format('hi')"
   ]
  },
  {
   "cell_type": "code",
   "execution_count": 65,
   "id": "4642b9ab-cbc7-49fd-84b8-cef079a1e70a",
   "metadata": {},
   "outputs": [
    {
     "data": {
      "text/plain": [
       "'    hi    '"
      ]
     },
     "execution_count": 65,
     "metadata": {},
     "output_type": "execute_result"
    }
   ],
   "source": [
    "\"{:^10}\".format('hi')"
   ]
  },
  {
   "cell_type": "code",
   "execution_count": 66,
   "id": "0e10c9cc-730d-43af-b0da-987339577e8a",
   "metadata": {},
   "outputs": [
    {
     "data": {
      "text/plain": [
       "'====hi===='"
      ]
     },
     "execution_count": 66,
     "metadata": {},
     "output_type": "execute_result"
    }
   ],
   "source": [
    "\"{:=^10}\".format('hi')"
   ]
  },
  {
   "cell_type": "code",
   "execution_count": 68,
   "id": "578231ba-adca-4ff5-831e-1f7e28b05fb2",
   "metadata": {},
   "outputs": [
    {
     "data": {
      "text/plain": [
       "'hi!!!!!!!!'"
      ]
     },
     "execution_count": 68,
     "metadata": {},
     "output_type": "execute_result"
    }
   ],
   "source": [
    "\"{:!<10}\".format('hi')"
   ]
  },
  {
   "cell_type": "code",
   "execution_count": 69,
   "id": "f5895981-f51d-473d-8112-b6179eb448f0",
   "metadata": {},
   "outputs": [
    {
     "data": {
      "text/plain": [
       "'3.4213'"
      ]
     },
     "execution_count": 69,
     "metadata": {},
     "output_type": "execute_result"
    }
   ],
   "source": [
    "y=3.42134234\n",
    "\"{:0.4f}\".format(y)"
   ]
  },
  {
   "cell_type": "code",
   "execution_count": 70,
   "id": "59546395-c1ee-4065-9060-9310a478d20c",
   "metadata": {},
   "outputs": [
    {
     "data": {
      "text/plain": [
       "'    3.4213'"
      ]
     },
     "execution_count": 70,
     "metadata": {},
     "output_type": "execute_result"
    }
   ],
   "source": [
    "y=3.42134234\n",
    "\"{:10.4f}\".format(y)"
   ]
  },
  {
   "cell_type": "code",
   "execution_count": 73,
   "id": "b5e7efbd-3342-4709-9fe0-9d36efb1323f",
   "metadata": {},
   "outputs": [
    {
     "data": {
      "text/plain": [
       "'3.4213!!!!'"
      ]
     },
     "execution_count": 73,
     "metadata": {},
     "output_type": "execute_result"
    }
   ],
   "source": [
    "y=3.42134234\n",
    "\"{:!<10.4f}\".format(y)"
   ]
  },
  {
   "cell_type": "code",
   "execution_count": 75,
   "id": "a4e4d072-cca5-4bbe-90c9-3eb13ad908f1",
   "metadata": {},
   "outputs": [
    {
     "data": {
      "text/plain": [
       "'{and}'"
      ]
     },
     "execution_count": 75,
     "metadata": {},
     "output_type": "execute_result"
    }
   ],
   "source": [
    "y=3.42134234\n",
    "\"{{and}}\".format(y)"
   ]
  },
  {
   "cell_type": "code",
   "execution_count": 78,
   "id": "7e1ae0c2-428b-4fdd-a2a8-314e1392ff06",
   "metadata": {},
   "outputs": [
    {
     "data": {
      "text/plain": [
       "'{and}'"
      ]
     },
     "execution_count": 78,
     "metadata": {},
     "output_type": "execute_result"
    }
   ],
   "source": [
    "\"{{and}}\".format(\"밥\")"
   ]
  },
  {
   "cell_type": "code",
   "execution_count": 79,
   "id": "f25a37a9-0bf3-4dea-bdac-4fe6e025aaed",
   "metadata": {},
   "outputs": [
    {
     "data": {
      "text/plain": [
       "'{and}'"
      ]
     },
     "execution_count": 79,
     "metadata": {},
     "output_type": "execute_result"
    }
   ],
   "source": [
    "\"{{and}}\".format(y)"
   ]
  },
  {
   "cell_type": "code",
   "execution_count": 82,
   "id": "e5a0bdd2-761a-4fda-9536-495670079d99",
   "metadata": {},
   "outputs": [
    {
     "data": {
      "text/plain": [
       "'나의 이름은 SDM 입니다. 나이는28'"
      ]
     },
     "execution_count": 82,
     "metadata": {},
     "output_type": "execute_result"
    }
   ],
   "source": [
    "name=\"SDM\"\n",
    "age=28\n",
    "f\"나의 이름은 {name} 입니다. 나이는{age}\""
   ]
  },
  {
   "cell_type": "code",
   "execution_count": 84,
   "id": "1b4bb109-cc17-4094-b5fb-115c4a17d7ae",
   "metadata": {},
   "outputs": [
    {
     "data": {
      "text/plain": [
       "'나는 내년이면 29살이 됩니다.'"
      ]
     },
     "execution_count": 84,
     "metadata": {},
     "output_type": "execute_result"
    }
   ],
   "source": [
    "f\"나는 내년이면 {age+1}살이 됩니다.\""
   ]
  },
  {
   "cell_type": "code",
   "execution_count": 87,
   "id": "360e7489-b9a4-4dc1-aa85-8bf3ee380b51",
   "metadata": {},
   "outputs": [
    {
     "data": {
      "text/plain": [
       "'나의 이름은SDM 입니다. 나이는 28 입니다.'"
      ]
     },
     "execution_count": 87,
     "metadata": {},
     "output_type": "execute_result"
    }
   ],
   "source": [
    "d= {'name':'SDM','age':'28'}\n",
    "f'나의 이름은{d['name']} 입니다. 나이는 {d['age']} 입니다.'"
   ]
  },
  {
   "cell_type": "code",
   "execution_count": 90,
   "id": "c11482ff-0145-44ec-8a7d-d2a52c5b463c",
   "metadata": {},
   "outputs": [
    {
     "data": {
      "text/plain": [
       "'hi        '"
      ]
     },
     "execution_count": 90,
     "metadata": {},
     "output_type": "execute_result"
    }
   ],
   "source": [
    "f'{\"hi\":<10}'"
   ]
  },
  {
   "cell_type": "code",
   "execution_count": 91,
   "id": "f5339f7a-c283-4aca-b1ff-0d5953a82f02",
   "metadata": {},
   "outputs": [
    {
     "data": {
      "text/plain": [
       "'        hi'"
      ]
     },
     "execution_count": 91,
     "metadata": {},
     "output_type": "execute_result"
    }
   ],
   "source": [
    "f'{\"hi\":>10}'"
   ]
  },
  {
   "cell_type": "code",
   "execution_count": 92,
   "id": "e3fe0413-00ed-4723-bd62-7239db56cdfe",
   "metadata": {},
   "outputs": [
    {
     "data": {
      "text/plain": [
       "'    hi    '"
      ]
     },
     "execution_count": 92,
     "metadata": {},
     "output_type": "execute_result"
    }
   ],
   "source": [
    "f'{\"hi\":^10}'"
   ]
  },
  {
   "cell_type": "code",
   "execution_count": 162,
   "id": "828a330f-64a6-44e4-b934-b937af08f080",
   "metadata": {},
   "outputs": [
    {
     "name": "stdout",
     "output_type": "stream",
     "text": [
      "hi\n",
      "====hi====\n",
      "뭐\n"
     ]
    }
   ],
   "source": [
    "print(f'{\"hi\"}')\n",
    "print(f'{\"hi\":=^10}')\n",
    "print('뭐')"
   ]
  },
  {
   "cell_type": "code",
   "execution_count": 100,
   "id": "024a4dc5-08cc-4dbe-826d-e694df498d89",
   "metadata": {},
   "outputs": [
    {
     "data": {
      "text/plain": [
       "'3.4213'"
      ]
     },
     "execution_count": 100,
     "metadata": {},
     "output_type": "execute_result"
    }
   ],
   "source": [
    "    f\"{3.421342:0.4f}\""
   ]
  },
  {
   "cell_type": "code",
   "execution_count": 102,
   "id": "df7c1494-4950-4cc0-a54f-536bc4a2c318",
   "metadata": {},
   "outputs": [
    {
     "data": {
      "text/plain": [
       "'    3.4213'"
      ]
     },
     "execution_count": 102,
     "metadata": {},
     "output_type": "execute_result"
    }
   ],
   "source": [
    "f\"{3.421342:10.4f}\""
   ]
  },
  {
   "cell_type": "code",
   "execution_count": 105,
   "id": "26a23208-b72d-4366-b507-b554f4189c58",
   "metadata": {},
   "outputs": [
    {
     "data": {
      "text/plain": [
       "'{and}'"
      ]
     },
     "execution_count": 105,
     "metadata": {},
     "output_type": "execute_result"
    }
   ],
   "source": [
    "f'{{and}}'"
   ]
  },
  {
   "cell_type": "markdown",
   "id": "fb10873f-a6c4-44f5-bf5d-bce2530d18d1",
   "metadata": {},
   "source": [
    "### 문자열 관련 함수들"
   ]
  },
  {
   "cell_type": "code",
   "execution_count": 110,
   "id": "6a382cf2-a52d-45a9-b5c8-51b7fa33b13c",
   "metadata": {},
   "outputs": [
    {
     "data": {
      "text/plain": [
       "2"
      ]
     },
     "execution_count": 110,
     "metadata": {},
     "output_type": "execute_result"
    }
   ],
   "source": [
    "# count(): 문자개수 세기\n",
    "a= \"hobby\".count(\"b\")\n",
    "a\n"
   ]
  },
  {
   "cell_type": "code",
   "execution_count": 121,
   "id": "bf350ca6-03af-4de2-92c3-536c8909f768",
   "metadata": {},
   "outputs": [
    {
     "data": {
      "text/plain": [
       "14"
      ]
     },
     "execution_count": 121,
     "metadata": {},
     "output_type": "execute_result"
    }
   ],
   "source": [
    "#find() 위차찾기 b가 있는 위치번호\n",
    "\"Python is the best choice\".find('b')"
   ]
  },
  {
   "cell_type": "code",
   "execution_count": 123,
   "id": "b73dd564-a532-434d-b029-424c2a2cfe13",
   "metadata": {},
   "outputs": [
    {
     "data": {
      "text/plain": [
       "-1"
      ]
     },
     "execution_count": 123,
     "metadata": {},
     "output_type": "execute_result"
    }
   ],
   "source": [
    "\"Python is the best choice\".find('k') #문자가 없으면 -1 반환"
   ]
  },
  {
   "cell_type": "code",
   "execution_count": 126,
   "id": "daafa418-90b9-4e13-b4b5-95263bf1825e",
   "metadata": {},
   "outputs": [
    {
     "data": {
      "text/plain": [
       "8"
      ]
     },
     "execution_count": 126,
     "metadata": {},
     "output_type": "execute_result"
    }
   ],
   "source": [
    "\"Life is too short\".index('t') #t가 가장 먼저 나오는 위치"
   ]
  },
  {
   "cell_type": "code",
   "execution_count": 129,
   "id": "9a7d0c38-5edb-4fcc-91c8-65530592012a",
   "metadata": {},
   "outputs": [
    {
     "ename": "ValueError",
     "evalue": "substring not found",
     "output_type": "error",
     "traceback": [
      "\u001b[1;31m---------------------------------------------------------------------------\u001b[0m",
      "\u001b[1;31mValueError\u001b[0m                                Traceback (most recent call last)",
      "Cell \u001b[1;32mIn[129], line 1\u001b[0m\n\u001b[1;32m----> 1\u001b[0m \u001b[38;5;124m\"\u001b[39m\u001b[38;5;124mLife is too short\u001b[39m\u001b[38;5;124m\"\u001b[39m\u001b[38;5;241m.\u001b[39mindex(\u001b[38;5;124m'\u001b[39m\u001b[38;5;124mk\u001b[39m\u001b[38;5;124m'\u001b[39m)\n",
      "\u001b[1;31mValueError\u001b[0m: substring not found"
     ]
    }
   ],
   "source": [
    "\"Life is too short\".index('k') "
   ]
  },
  {
   "cell_type": "code",
   "execution_count": 138,
   "id": "da261188-e4c0-4e62-aeae-7f1c9a006243",
   "metadata": {},
   "outputs": [
    {
     "data": {
      "text/plain": [
       "'a,b,c,d'"
      ]
     },
     "execution_count": 138,
     "metadata": {},
     "output_type": "execute_result"
    }
   ],
   "source": [
    "\",\".join('abcd')"
   ]
  },
  {
   "cell_type": "code",
   "execution_count": 139,
   "id": "5467b863-fee0-4aec-bc34-3d1c7def070b",
   "metadata": {},
   "outputs": [
    {
     "data": {
      "text/plain": [
       "'a,b,c,d'"
      ]
     },
     "execution_count": 139,
     "metadata": {},
     "output_type": "execute_result"
    }
   ],
   "source": [
    "\",\".join(['a','b','c','d'])"
   ]
  },
  {
   "cell_type": "code",
   "execution_count": 163,
   "id": "aa4b9a41-5708-4392-8783-c50d7b4e8c55",
   "metadata": {},
   "outputs": [
    {
     "name": "stdout",
     "output_type": "stream",
     "text": [
      "['a', 'b', 'c', 'd']\n",
      "<class 'list'>\n"
     ]
    }
   ],
   "source": [
    "list = ['a','b','c','d']\n",
    "print(list)\n",
    "print(type(list))\n"
   ]
  },
  {
   "cell_type": "code",
   "execution_count": 169,
   "id": "cf87182b-bbe5-4dc4-88f2-e874a1f52cfa",
   "metadata": {},
   "outputs": [
    {
     "data": {
      "text/plain": [
       "'abcd'"
      ]
     },
     "execution_count": 169,
     "metadata": {},
     "output_type": "execute_result"
    }
   ],
   "source": [
    "\"\".join(list)"
   ]
  },
  {
   "cell_type": "code",
   "execution_count": 171,
   "id": "6a7136c1-a7e6-4c74-9dbf-c4d10aba57d2",
   "metadata": {},
   "outputs": [
    {
     "name": "stdout",
     "output_type": "stream",
     "text": [
      "b\n"
     ]
    }
   ],
   "source": [
    "print(list[1])"
   ]
  },
  {
   "cell_type": "code",
   "execution_count": 164,
   "id": "604b2ec9-9e9d-4829-aaa7-999881eaf909",
   "metadata": {},
   "outputs": [
    {
     "name": "stdout",
     "output_type": "stream",
     "text": [
      "a,b,c,d\n",
      "<class 'str'>\n"
     ]
    }
   ],
   "source": [
    "list_join = ','.join(list)\n",
    "print(list_join)\n",
    "print(type(list_join))\n"
   ]
  },
  {
   "cell_type": "code",
   "execution_count": 146,
   "id": "fb6e8c6a-16f8-43b5-9625-61d13f5cd105",
   "metadata": {},
   "outputs": [
    {
     "data": {
      "text/plain": [
       "'HI'"
      ]
     },
     "execution_count": 146,
     "metadata": {},
     "output_type": "execute_result"
    }
   ],
   "source": [
    "#upper() : 소문자ㅡㄹ 대문자로\n",
    "\"hi\".upper()"
   ]
  },
  {
   "cell_type": "code",
   "execution_count": 147,
   "id": "aa95aeb2-4f47-4cdd-94bb-4cdfcebaef31",
   "metadata": {},
   "outputs": [
    {
     "data": {
      "text/plain": [
       "'hi'"
      ]
     },
     "execution_count": 147,
     "metadata": {},
     "output_type": "execute_result"
    }
   ],
   "source": [
    "#lower () : 대문자를 소문자로\n",
    "\"HI\".lower()"
   ]
  },
  {
   "cell_type": "code",
   "execution_count": 149,
   "id": "2a3a2435-08d5-4117-bec2-2ca6e9a1c386",
   "metadata": {},
   "outputs": [
    {
     "data": {
      "text/plain": [
       "'hi   '"
      ]
     },
     "execution_count": 149,
     "metadata": {},
     "output_type": "execute_result"
    }
   ],
   "source": [
    "#lstrinp() : 왼쪽 공백 제거\n",
    "\"  hi   \".lstrip()"
   ]
  },
  {
   "cell_type": "code",
   "execution_count": 153,
   "id": "501f38dd-b1d0-4d8f-96a7-7e1cb89d1c83",
   "metadata": {},
   "outputs": [
    {
     "data": {
      "text/plain": [
       "'  hi'"
      ]
     },
     "execution_count": 153,
     "metadata": {},
     "output_type": "execute_result"
    }
   ],
   "source": [
    "#rstrinp() : 오른쪽 공백 제거\n",
    "\"  hi   \".rstrip()"
   ]
  },
  {
   "cell_type": "code",
   "execution_count": 155,
   "id": "75fc72cd-1c80-4afb-914b-0ea3e30d00eb",
   "metadata": {},
   "outputs": [
    {
     "data": {
      "text/plain": [
       "'hi'"
      ]
     },
     "execution_count": 155,
     "metadata": {},
     "output_type": "execute_result"
    }
   ],
   "source": [
    "#strinp() : 양쪽 공백 제거\n",
    "\"  hi   \".strip()"
   ]
  },
  {
   "cell_type": "code",
   "execution_count": 158,
   "id": "2a39c44a-3656-4eb5-b0be-316eeae15f48",
   "metadata": {},
   "outputs": [
    {
     "ename": "NameError",
     "evalue": "name 'print' is not defined",
     "output_type": "error",
     "traceback": [
      "\u001b[1;31m---------------------------------------------------------------------------\u001b[0m",
      "\u001b[1;31mNameError\u001b[0m                                 Traceback (most recent call last)",
      "Cell \u001b[1;32mIn[158], line 1\u001b[0m\n\u001b[1;32m----> 1\u001b[0m \u001b[38;5;28;01mdel\u001b[39;00m \u001b[38;5;28mprint\u001b[39m\n",
      "\u001b[1;31mNameError\u001b[0m: name 'print' is not defined"
     ]
    }
   ],
   "source": [
    "del print"
   ]
  },
  {
   "cell_type": "code",
   "execution_count": 160,
   "id": "3812d593-e5d9-4b5b-be8b-616724f0d364",
   "metadata": {},
   "outputs": [
    {
     "name": "stdout",
     "output_type": "stream",
     "text": [
      "['a', 'b', 'c', 'd']\n",
      "<class 'list'>\n"
     ]
    }
   ],
   "source": [
    "list = ['a','b','c','d']\n",
    "print(list)\n",
    "print(type(list))\n"
   ]
  },
  {
   "cell_type": "code",
   "execution_count": 165,
   "id": "236c867e-fc9d-462c-b400-95a784b1479f",
   "metadata": {},
   "outputs": [
    {
     "name": "stdout",
     "output_type": "stream",
     "text": [
      "hi\n",
      "====hi====\n",
      "뭐\n"
     ]
    }
   ],
   "source": [
    "print(f'{\"hi\"}')\n",
    "print(f'{\"hi\":=^10}')\n",
    "print('뭐')"
   ]
  },
  {
   "cell_type": "code",
   "execution_count": 176,
   "id": "2fe15e44-b99d-48f4-9408-2434aa9235ae",
   "metadata": {},
   "outputs": [
    {
     "data": {
      "text/plain": [
       "'your leg is too short'"
      ]
     },
     "execution_count": 176,
     "metadata": {},
     "output_type": "execute_result"
    }
   ],
   "source": [
    "# replace() : 문자열 바꾸기\n",
    "\"life is too short\".replace(\"life\",\"your leg\")"
   ]
  },
  {
   "cell_type": "code",
   "execution_count": 179,
   "id": "4877d6c5-64c2-446f-8469-5829c1ec9463",
   "metadata": {},
   "outputs": [
    {
     "name": "stdout",
     "output_type": "stream",
     "text": [
      "['Life', 'is', 'too', 'short']\n",
      "<class 'list'>\n"
     ]
    }
   ],
   "source": [
    "#split() 문자열 나누기\n",
    "a = \"Life is too short\"\n",
    "b= a.split()\n",
    "print(b)\n",
    "print(type(b))"
   ]
  },
  {
   "cell_type": "code",
   "execution_count": 180,
   "id": "d0862bac-b4df-4de4-b939-4bd68bc2251a",
   "metadata": {},
   "outputs": [
    {
     "data": {
      "text/plain": [
       "['a', 'b', 'c', 'd']"
      ]
     },
     "execution_count": 180,
     "metadata": {},
     "output_type": "execute_result"
    }
   ],
   "source": [
    "b = \"a:b:c:d\"\n",
    "b.split(\":\")"
   ]
  },
  {
   "cell_type": "code",
   "execution_count": 187,
   "id": "925b3465-d404-4f25-a8e2-1d56856c5727",
   "metadata": {},
   "outputs": [],
   "source": [
    "a='hi'\n",
    "a=a.upper()"
   ]
  },
  {
   "cell_type": "code",
   "execution_count": null,
   "id": "36917266-ecd8-4354-abf1-5f7faccefbc8",
   "metadata": {},
   "outputs": [],
   "source": []
  },
  {
   "cell_type": "code",
   "execution_count": 188,
   "id": "bea2e3d5-8382-433e-b820-bb96099d017e",
   "metadata": {},
   "outputs": [
    {
     "data": {
      "text/plain": [
       "'HI'"
      ]
     },
     "execution_count": 188,
     "metadata": {},
     "output_type": "execute_result"
    }
   ],
   "source": [
    "a"
   ]
  },
  {
   "cell_type": "code",
   "execution_count": null,
   "id": "568a05a9-112f-41f3-b58d-a42627032518",
   "metadata": {},
   "outputs": [],
   "source": []
  }
 ],
 "metadata": {
  "kernelspec": {
   "display_name": "Python 3 (ipykernel)",
   "language": "python",
   "name": "python3"
  },
  "language_info": {
   "codemirror_mode": {
    "name": "ipython",
    "version": 3
   },
   "file_extension": ".py",
   "mimetype": "text/x-python",
   "name": "python",
   "nbconvert_exporter": "python",
   "pygments_lexer": "ipython3",
   "version": "3.13.5"
  }
 },
 "nbformat": 4,
 "nbformat_minor": 5
}
