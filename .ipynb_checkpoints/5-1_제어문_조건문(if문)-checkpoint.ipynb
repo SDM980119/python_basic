{
 "cells": [
  {
   "cell_type": "markdown",
   "id": "3cac11d7-849b-49bf-bedc-e1c9fa16a3cd",
   "metadata": {},
   "source": [
    "## 1. if 문 기본구조\n"
   ]
  },
  {
   "cell_type": "code",
   "execution_count": 5,
   "id": "157cad3a-2082-4656-89aa-5d5ec35309c3",
   "metadata": {},
   "outputs": [
    {
     "name": "stdout",
     "output_type": "stream",
     "text": [
      "택시를\n",
      "타고\n",
      "가라\n"
     ]
    }
   ],
   "source": [
    "money = True\n",
    "if money:\n",
    "    print(\"택시를\")\n",
    "    print(\"타고\")\n",
    "    print(\"가라\")\n",
    "else:\n",
    "    print(\"걸어가\")"
   ]
  },
  {
   "cell_type": "code",
   "execution_count": 6,
   "id": "ac4a4929-972b-4508-bcdb-99150e708b7e",
   "metadata": {},
   "outputs": [
    {
     "name": "stdout",
     "output_type": "stream",
     "text": [
      "걸어가\n"
     ]
    }
   ],
   "source": [
    "money = False\n",
    "if money:\n",
    "    print(\"택시를\")\n",
    "    print(\"타고\")\n",
    "    print(\"가라\")\n",
    "else:\n",
    "    print(\"걸어가\")"
   ]
  },
  {
   "cell_type": "code",
   "execution_count": 8,
   "id": "74877a24-1a61-446f-807c-051abb8f02b2",
   "metadata": {},
   "outputs": [
    {
     "name": "stdout",
     "output_type": "stream",
     "text": [
      "True\n",
      "False\n",
      "False\n",
      "True\n"
     ]
    }
   ],
   "source": [
    "# 비교 연산자\n",
    "x = 3\n",
    "y = 2\n",
    "\n",
    "print(x > y) #True\n",
    "print(x < y) #False\n",
    "print(x == y) #Folse\n",
    "print(x != y) #True\n"
   ]
  },
  {
   "cell_type": "code",
   "execution_count": 9,
   "id": "d2f7ae25-1bcf-441e-a176-9a1ee3657523",
   "metadata": {},
   "outputs": [
    {
     "name": "stdout",
     "output_type": "stream",
     "text": [
      "걸어가라\n",
      "그냥걸어가자\n"
     ]
    }
   ],
   "source": [
    "money = 2000\n",
    "\n",
    "if money >= 3000:\n",
    "    print(\"택시를 타고 가라\")\n",
    "else:\n",
    "    print(\"걸어가라\")\n",
    "print(\"그냥걸어가자\")"
   ]
  },
  {
   "cell_type": "markdown",
   "id": "b76ac29c-a352-4f16-bfe1-e2213d8ca9e7",
   "metadata": {},
   "source": [
    "## 논리연산자 AND , OR, NOT"
   ]
  },
  {
   "cell_type": "code",
   "execution_count": 11,
   "id": "1e93ae17-6249-4a83-9f33-fad10bdf22f0",
   "metadata": {},
   "outputs": [
    {
     "name": "stdout",
     "output_type": "stream",
     "text": [
      "택시를 타고 가라\n"
     ]
    }
   ],
   "source": [
    "#논리 연산자\n",
    "# 조건식 x, y => and 둘다 Ture 일때 Ture\n",
    "#                or 둘중 하나가  Ture 일떄 Ture\n",
    "#                not Ture -> False , False -> Ture\n",
    "\n",
    "money = 3000\n",
    "card = True\n",
    "\n",
    "if money >= 3000 or card:\n",
    "    print(\"택시를 타고 가라\")\n",
    "else:\n",
    "    print(\"걸어가라\")"
   ]
  },
  {
   "cell_type": "code",
   "execution_count": 12,
   "id": "842bc493-2fa3-42b1-9d58-a56c603a12a9",
   "metadata": {},
   "outputs": [
    {
     "data": {
      "text/plain": [
       "True"
      ]
     },
     "execution_count": 12,
     "metadata": {},
     "output_type": "execute_result"
    }
   ],
   "source": [
    "# in, not in\n",
    "1 in [1,2,3]"
   ]
  },
  {
   "cell_type": "code",
   "execution_count": 13,
   "id": "858c0b46-07df-44c9-b93c-a97618cc8b48",
   "metadata": {},
   "outputs": [
    {
     "data": {
      "text/plain": [
       "False"
      ]
     },
     "execution_count": 13,
     "metadata": {},
     "output_type": "execute_result"
    }
   ],
   "source": [
    "1 not in [1,2,3]"
   ]
  },
  {
   "cell_type": "code",
   "execution_count": 16,
   "id": "016c8d46-b3f9-496d-99e4-1c27a2efb237",
   "metadata": {},
   "outputs": [
    {
     "data": {
      "text/plain": [
       "True"
      ]
     },
     "execution_count": 16,
     "metadata": {},
     "output_type": "execute_result"
    }
   ],
   "source": [
    "'a' in ('a','b','c')"
   ]
  },
  {
   "cell_type": "code",
   "execution_count": 17,
   "id": "59d56172-a357-4f95-aef0-1d8ea17bd854",
   "metadata": {},
   "outputs": [
    {
     "data": {
      "text/plain": [
       "False"
      ]
     },
     "execution_count": 17,
     "metadata": {},
     "output_type": "execute_result"
    }
   ],
   "source": [
    "'d' in ('a','b','c')"
   ]
  },
  {
   "cell_type": "code",
   "execution_count": 18,
   "id": "11ca53bc-a70c-4ac1-aea9-357ccf740ce7",
   "metadata": {},
   "outputs": [
    {
     "data": {
      "text/plain": [
       "True"
      ]
     },
     "execution_count": 18,
     "metadata": {},
     "output_type": "execute_result"
    }
   ],
   "source": [
    "'d' not in ('a','b','c')"
   ]
  },
  {
   "cell_type": "code",
   "execution_count": 19,
   "id": "4da3880b-671d-48d2-bb7b-f0bce5783401",
   "metadata": {},
   "outputs": [
    {
     "name": "stdout",
     "output_type": "stream",
     "text": [
      "택시\n"
     ]
    }
   ],
   "source": [
    "poket = ['paper', 'cellphone', 'money']\n",
    "if 'money' in poket:\n",
    "    print(\"택시\")\n",
    "else:\n",
    "    print(\"걸어\")"
   ]
  },
  {
   "cell_type": "code",
   "execution_count": 33,
   "id": "e2f61bb2-9d3e-4ab5-9cb3-de28d5203c26",
   "metadata": {},
   "outputs": [
    {
     "name": "stdout",
     "output_type": "stream",
     "text": [
      "dd\n"
     ]
    }
   ],
   "source": [
    "# pass : 조건문 실행 없이 패스\n",
    "poket = ['paper', 'cellphone', 'money']\n",
    "if 'money' in poket:\n",
    "    pass\n",
    "    print(\"dd\")\n",
    "else:\n",
    "    print(\"걸어\")"
   ]
  },
  {
   "cell_type": "markdown",
   "id": "18530a5a-7b73-4485-8e25-a0c31e3dc03c",
   "metadata": {},
   "source": [
    "## 다양한 조건을 판단하는 elif"
   ]
  },
  {
   "cell_type": "code",
   "execution_count": 28,
   "id": "ef39bd46-c72f-472e-9786-bbc770536f1a",
   "metadata": {},
   "outputs": [
    {
     "name": "stdout",
     "output_type": "stream",
     "text": [
      "택시\n"
     ]
    }
   ],
   "source": [
    "# if, else 만으로 표현\n",
    "poket = ['paper', 'cellpone']\n",
    "card = True\n",
    "if 'money' in poket:\n",
    "    print(\"타라\")\n",
    "else:\n",
    "    if card:\n",
    "        print(\"택시\")\n",
    "    else:\n",
    "        print(\"걸어라\")\n"
   ]
  },
  {
   "cell_type": "code",
   "execution_count": 30,
   "id": "52b61e38-6fb7-4d2d-a231-a070ba1b1169",
   "metadata": {},
   "outputs": [
    {
     "name": "stdout",
     "output_type": "stream",
     "text": [
      "택시\n"
     ]
    }
   ],
   "source": [
    "# elif 사용\n",
    "poket = ['paper', 'cellpone']\n",
    "card = True\n",
    "if 'money' in poket:\n",
    "    print(\"타라\")\n",
    "elif card:\n",
    "    print(\"택시\")\n",
    "\n",
    "else:\n",
    "    print(\"걸어라\")\n"
   ]
  },
  {
   "cell_type": "code",
   "execution_count": 32,
   "id": "7846b8b9-59b1-48be-b4a1-a8b218414955",
   "metadata": {},
   "outputs": [
    {
     "name": "stdout",
     "output_type": "stream",
     "text": [
      "D\n"
     ]
    }
   ],
   "source": [
    "math = 60\n",
    "if math >= 90:\n",
    "    print('A')\n",
    "elif math >= 80:\n",
    "    print(\"B\")\n",
    "elif math >= 70:\n",
    "    print(\"C\")\n",
    "elif math >= 60:\n",
    "    print(\"D\")\n",
    "else:\n",
    "    print(\"F\")\n",
    "    "
   ]
  },
  {
   "cell_type": "code",
   "execution_count": 34,
   "id": "23277b96-766d-41e5-8928-3a69975e90d2",
   "metadata": {},
   "outputs": [],
   "source": [
    "# if 문 한 줄로 작성하기\n",
    "poket = ['paper', 'cellphone', 'money']\n",
    "if 'money' in poket: pass\n",
    "else: print(\"걸어\")"
   ]
  },
  {
   "cell_type": "markdown",
   "id": "d34c622f-07ea-41e9-85b1-edbae1601ca6",
   "metadata": {},
   "source": [
    "### 조건문 표현식"
   ]
  },
  {
   "cell_type": "code",
   "execution_count": 36,
   "id": "60fb29b4-52ca-40b4-ba7a-1bc9a1d03945",
   "metadata": {},
   "outputs": [
    {
     "name": "stdout",
     "output_type": "stream",
     "text": [
      "success\n"
     ]
    }
   ],
   "source": [
    "# if /else 문\n",
    "score = 90\n",
    "if score >= 60:\n",
    "    message = \"success\"\n",
    "else:\n",
    "    message = \"failure\"\n",
    "\n",
    "print(message)"
   ]
  },
  {
   "cell_type": "code",
   "execution_count": 50,
   "id": "e781483b-bd25-4c3b-8955-abb8376900a2",
   "metadata": {},
   "outputs": [
    {
     "name": "stdin",
     "output_type": "stream",
     "text": [
      " 50\n"
     ]
    },
    {
     "name": "stdout",
     "output_type": "stream",
     "text": [
      "failure\n"
     ]
    }
   ],
   "source": [
    "# 조건부 표현식 한줄로 작성\n",
    "score = int(input())\n",
    "message = \"success\" if score >=60 else \"failure\"\n",
    "print(message)"
   ]
  },
  {
   "cell_type": "code",
   "execution_count": null,
   "id": "086e4fd6-1b4c-4778-ab1c-a756070a2085",
   "metadata": {},
   "outputs": [],
   "source": []
  },
  {
   "cell_type": "code",
   "execution_count": null,
   "id": "da05f740-a4e9-44aa-9f91-17f2ca323acc",
   "metadata": {},
   "outputs": [],
   "source": []
  }
 ],
 "metadata": {
  "kernelspec": {
   "display_name": "Python 3 (ipykernel)",
   "language": "python",
   "name": "python3"
  },
  "language_info": {
   "codemirror_mode": {
    "name": "ipython",
    "version": 3
   },
   "file_extension": ".py",
   "mimetype": "text/x-python",
   "name": "python",
   "nbconvert_exporter": "python",
   "pygments_lexer": "ipython3",
   "version": "3.13.5"
  }
 },
 "nbformat": 4,
 "nbformat_minor": 5
}
