{
 "cells": [
  {
   "cell_type": "markdown",
   "id": "4b1817cb-6318-49b2-940f-bc9e08ef4dd1",
   "metadata": {},
   "source": [
    "## 1. 사용자 입출"
   ]
  },
  {
   "cell_type": "markdown",
   "id": "f2b1399a-9038-4074-868f-546b1c469a73",
   "metadata": {},
   "source": [
    "### 1) 사용자 입력"
   ]
  },
  {
   "cell_type": "code",
   "execution_count": 1,
   "id": "d7bd98f5-3257-49fc-9a6a-6c23a27643e3",
   "metadata": {},
   "outputs": [
    {
     "name": "stdin",
     "output_type": "stream",
     "text": [
      " Life is to short, you need python\n"
     ]
    },
    {
     "name": "stdout",
     "output_type": "stream",
     "text": [
      "Life is to short, you need python\n"
     ]
    }
   ],
   "source": [
    "a = input()\n",
    "print(a)"
   ]
  },
  {
   "cell_type": "code",
   "execution_count": 2,
   "id": "c516e219-37f9-472a-a766-8c60aac4c1c0",
   "metadata": {},
   "outputs": [
    {
     "name": "stdin",
     "output_type": "stream",
     "text": [
      "숫자를 입력하세요:  3\n"
     ]
    },
    {
     "name": "stdout",
     "output_type": "stream",
     "text": [
      "3\n"
     ]
    }
   ],
   "source": [
    "num = input(\"숫자를 입력하세요: \")\n",
    "print(num)"
   ]
  },
  {
   "cell_type": "code",
   "execution_count": 4,
   "id": "98113191-ca78-46be-9742-6d646802de81",
   "metadata": {},
   "outputs": [
    {
     "data": {
      "text/plain": [
       "str"
      ]
     },
     "execution_count": 4,
     "metadata": {},
     "output_type": "execute_result"
    }
   ],
   "source": [
    "# 기본입력은 str 타입으로 입력받음\n",
    "type(num)"
   ]
  },
  {
   "cell_type": "code",
   "execution_count": 14,
   "id": "55113bfe-018c-4bdf-81a3-e79d3358d592",
   "metadata": {},
   "outputs": [
    {
     "name": "stdin",
     "output_type": "stream",
     "text": [
      "숫자 1\n"
     ]
    },
    {
     "name": "stdout",
     "output_type": "stream",
     "text": [
      "<class 'int'>\n"
     ]
    }
   ],
   "source": [
    "#int 로 받기 위해서 input을 int로 감싸야 한다\n",
    "number = int(input(\"숫자\"))\n",
    "\n",
    "print(type(number))"
   ]
  },
  {
   "cell_type": "markdown",
   "id": "1fba777a-356d-4624-9530-f869f28a5f7b",
   "metadata": {},
   "source": [
    "### 2) print() 자세히 알기"
   ]
  },
  {
   "cell_type": "code",
   "execution_count": 10,
   "id": "301ca345-7b0d-4d9c-8635-522bc58cd43a",
   "metadata": {},
   "outputs": [
    {
     "name": "stdout",
     "output_type": "stream",
     "text": [
      "123\n",
      "python\n",
      "[1, 2, 3]\n"
     ]
    }
   ],
   "source": [
    "a = 123\n",
    "print(a)\n",
    "b = \"python\"\n",
    "print(b)\n",
    "c = [1,2,3]\n",
    "print(c)"
   ]
  },
  {
   "cell_type": "code",
   "execution_count": 12,
   "id": "801395e2-55bd-4702-9e19-053c6cb879f5",
   "metadata": {},
   "outputs": [
    {
     "name": "stdout",
     "output_type": "stream",
     "text": [
      "life is too short\n",
      "life is too short\n",
      "life is too short\n"
     ]
    }
   ],
   "source": [
    "# 문자열과 + 연산자로 출력\n",
    "print(\"life \" \"is \" \"too short\")\n",
    "print(\"life \" + \"is \" + \"too short\")\n",
    "print('life ' 'is ' 'too short')"
   ]
  },
  {
   "cell_type": "code",
   "execution_count": 15,
   "id": "abe73ad0-144f-4c9a-a3c4-673fd7060d9f",
   "metadata": {},
   "outputs": [
    {
     "name": "stdout",
     "output_type": "stream",
     "text": [
      "life is too short\n"
     ]
    }
   ],
   "source": [
    "# 문자열 띄어쓰기는 쉼표로\n",
    "print('life','is','too short')"
   ]
  },
  {
   "cell_type": "code",
   "execution_count": 17,
   "id": "5c61dac2-9936-4551-8089-8eb2575fa13b",
   "metadata": {},
   "outputs": [
    {
     "name": "stdout",
     "output_type": "stream",
     "text": [
      "0\n",
      "1\n",
      "2\n",
      "3\n",
      "4\n",
      "5\n",
      "6\n",
      "7\n",
      "8\n",
      "9\n"
     ]
    }
   ],
   "source": [
    "for i in range(10):\n",
    "    print(i)"
   ]
  },
  {
   "cell_type": "code",
   "execution_count": 19,
   "id": "f21da900-5252-4406-abfb-f2dce1fa0cc3",
   "metadata": {},
   "outputs": [
    {
     "name": "stdout",
     "output_type": "stream",
     "text": [
      "0 1 2 3 4 5 6 7 8 9 "
     ]
    }
   ],
   "source": [
    "# 한 줄에 값 출력\n",
    "for i in range(10):\n",
    "    print(i,end=' ')"
   ]
  },
  {
   "cell_type": "markdown",
   "id": "8f12a776-261d-40c8-a1a2-df45e01d51da",
   "metadata": {},
   "source": [
    "## 2. 파일 읽고 쓰기"
   ]
  },
  {
   "cell_type": "markdown",
   "id": "f8719b75-d277-482f-843b-d8060bc5c085",
   "metadata": {},
   "source": [
    "### 1) 파일 생성하기"
   ]
  },
  {
   "cell_type": "code",
   "execution_count": 23,
   "id": "957086e2-1f54-4fe3-9ca9-dc7f9faec0c5",
   "metadata": {},
   "outputs": [],
   "source": [
    "# open(파일 이름 확장자 포함, 파일의 모드(w 쓰기, r 읽기, a 추가))\n",
    "f = open('newfile.txt','w')"
   ]
  },
  {
   "cell_type": "code",
   "execution_count": 22,
   "id": "79f5a7ec-148e-4be3-8347-3da611d75f2e",
   "metadata": {},
   "outputs": [],
   "source": [
    "# close 파일 닫기\n",
    "f.close()"
   ]
  },
  {
   "cell_type": "code",
   "execution_count": 24,
   "id": "3e9273a1-21a7-48c1-ba90-1a5966f9eb8c",
   "metadata": {},
   "outputs": [],
   "source": [
    "# 특정경로에서 파일 생성\n",
    "f = open('C:\\\\Users\\\\WD\\\\python_basic\\\\newfile2.txt', 'w')"
   ]
  },
  {
   "cell_type": "code",
   "execution_count": 27,
   "id": "611b3696-efe6-4854-ae96-8a543cad40c7",
   "metadata": {},
   "outputs": [],
   "source": [
    "f.close()"
   ]
  },
  {
   "cell_type": "code",
   "execution_count": 28,
   "id": "6f045eee-2309-4fbe-b2e8-11f876fc5ab1",
   "metadata": {},
   "outputs": [],
   "source": [
    "f = open('newfile.txt','w')\n",
    "for i in range(1, 11):\n",
    "    data = f\"{i}번째 줄입니다.\\n\"\n",
    "    f.write(data)\n",
    "f.close()"
   ]
  },
  {
   "cell_type": "markdown",
   "id": "77b3c715-230b-4661-8558-0ebce6de055e",
   "metadata": {},
   "source": [
    "### 3) 파일을 읽는 여러가지 방법"
   ]
  },
  {
   "cell_type": "code",
   "execution_count": 30,
   "id": "9ed2c6c5-4e09-4667-9f4a-701627994706",
   "metadata": {},
   "outputs": [
    {
     "name": "stdout",
     "output_type": "stream",
     "text": [
      "1번째 줄입니다.\n",
      "\n"
     ]
    }
   ],
   "source": [
    "f = open(\"newfile.txt\",\"r\")\n",
    "line = f.readline()\n",
    "print(line)\n",
    "f.close()"
   ]
  },
  {
   "cell_type": "code",
   "execution_count": 33,
   "id": "1244b622-3207-4267-a5a4-e0093b856b49",
   "metadata": {},
   "outputs": [
    {
     "name": "stdout",
     "output_type": "stream",
     "text": [
      "1번째 줄입니다.\n",
      "\n",
      "2번째 줄입니다.\n",
      "\n",
      "3번째 줄입니다.\n",
      "\n",
      "4번째 줄입니다.\n",
      "\n",
      "5번째 줄입니다.\n",
      "\n",
      "6번째 줄입니다.\n",
      "\n",
      "7번째 줄입니다.\n",
      "\n",
      "8번째 줄입니다.\n",
      "\n",
      "9번째 줄입니다.\n",
      "\n",
      "10번째 줄입니다.\n",
      "\n"
     ]
    }
   ],
   "source": [
    "# readline() 함수로 여러줄읽기\n",
    "f = open('newfile.txt','r')\n",
    "while True:\n",
    "    line = f.readline()\n",
    "    if not line:\n",
    "        break\n",
    "    print(line)\n",
    "f.close()"
   ]
  },
  {
   "cell_type": "code",
   "execution_count": 34,
   "id": "adfd4077-6dce-4dbb-aaaa-3b995395bfde",
   "metadata": {},
   "outputs": [
    {
     "name": "stdin",
     "output_type": "stream",
     "text": [
      " 1\n"
     ]
    },
    {
     "name": "stdout",
     "output_type": "stream",
     "text": [
      "1\n"
     ]
    },
    {
     "name": "stdin",
     "output_type": "stream",
     "text": [
      " 2\n"
     ]
    },
    {
     "name": "stdout",
     "output_type": "stream",
     "text": [
      "2\n"
     ]
    },
    {
     "name": "stdin",
     "output_type": "stream",
     "text": [
      " 3\n"
     ]
    },
    {
     "name": "stdout",
     "output_type": "stream",
     "text": [
      "3\n"
     ]
    },
    {
     "name": "stdin",
     "output_type": "stream",
     "text": [
      " 4\n"
     ]
    },
    {
     "name": "stdout",
     "output_type": "stream",
     "text": [
      "4\n"
     ]
    },
    {
     "name": "stdin",
     "output_type": "stream",
     "text": [
      " 5\n"
     ]
    },
    {
     "name": "stdout",
     "output_type": "stream",
     "text": [
      "5\n"
     ]
    },
    {
     "name": "stdin",
     "output_type": "stream",
     "text": [
      " 6\n"
     ]
    },
    {
     "name": "stdout",
     "output_type": "stream",
     "text": [
      "6\n"
     ]
    },
    {
     "name": "stdin",
     "output_type": "stream",
     "text": [
      " 7\n"
     ]
    },
    {
     "name": "stdout",
     "output_type": "stream",
     "text": [
      "7\n"
     ]
    },
    {
     "name": "stdin",
     "output_type": "stream",
     "text": [
      " \n"
     ]
    }
   ],
   "source": [
    "# 사용자 입력을 받아서 여러줄 출력하기\n",
    "while True:\n",
    "    data = input()\n",
    "    if not data:\n",
    "        break\n",
    "    print(data)\n"
   ]
  },
  {
   "cell_type": "code",
   "execution_count": 46,
   "id": "f97268e5-e86c-4f58-a4c7-36837932c382",
   "metadata": {},
   "outputs": [
    {
     "name": "stdout",
     "output_type": "stream",
     "text": [
      "1번째 줄입니다.\n",
      "\n",
      "2번째 줄입니다.\n",
      "\n",
      "3번째 줄입니다.\n",
      "\n",
      "4번째 줄입니다.\n",
      "\n",
      "5번째 줄입니다.\n",
      "\n",
      "6번째 줄입니다.\n",
      "\n",
      "7번째 줄입니다.\n",
      "\n",
      "8번째 줄입니다.\n",
      "\n",
      "9번째 줄입니다.\n",
      "\n",
      "10번째 줄입니다.\n",
      "\n"
     ]
    }
   ],
   "source": [
    "# 여러줄 읽는 readline() 함수 사용하기\n",
    "f = open('newfile.txt','r')\n",
    "lines = f.readlines()\n",
    "for line in lines:\n",
    "    print(line)\n",
    "f.close()"
   ]
  },
  {
   "cell_type": "code",
   "execution_count": 45,
   "id": "b1c96923-8fd6-40f4-be77-06ad439b9d12",
   "metadata": {},
   "outputs": [
    {
     "name": "stdout",
     "output_type": "stream",
     "text": [
      "1번째 줄입니다.\n",
      "2번째 줄입니다.\n",
      "3번째 줄입니다.\n",
      "4번째 줄입니다.\n",
      "5번째 줄입니다.\n",
      "6번째 줄입니다.\n",
      "7번째 줄입니다.\n",
      "8번째 줄입니다.\n",
      "9번째 줄입니다.\n",
      "10번째 줄입니다.\n"
     ]
    }
   ],
   "source": [
    "# 줄바꿈(\\n)문자 제거하기\n",
    "f = open('newfile.txt','r')\n",
    "lines = f.readlines()\n",
    "for line in lines:\n",
    "    line = line.strip()\n",
    "    print(line)\n",
    "f.close()"
   ]
  },
  {
   "cell_type": "code",
   "execution_count": 48,
   "id": "335584ca-2ffa-469c-bf3b-33ab1ad51f99",
   "metadata": {},
   "outputs": [
    {
     "name": "stdout",
     "output_type": "stream",
     "text": [
      "1번째 줄입니다.\n",
      "2번째 줄입니다.\n",
      "3번째 줄입니다.\n",
      "4번째 줄입니다.\n",
      "5번째 줄입니다.\n",
      "6번째 줄입니다.\n",
      "7번째 줄입니다.\n",
      "8번째 줄입니다.\n",
      "9번째 줄입니다.\n",
      "10번째 줄입니다.\n",
      "\n"
     ]
    }
   ],
   "source": [
    "# read 함수로 파일전체 내용 읽기\n",
    "f = open('newfile.txt','r')\n",
    "data = f.read()\n",
    "print(data)\n",
    "f.close()"
   ]
  },
  {
   "cell_type": "code",
   "execution_count": 51,
   "id": "a0400fbf-21f9-4956-9a61-74687e04c937",
   "metadata": {},
   "outputs": [
    {
     "name": "stdout",
     "output_type": "stream",
     "text": [
      "1번째 줄입니다.\n",
      "\n",
      "2번째 줄입니다.\n",
      "\n",
      "3번째 줄입니다.\n",
      "\n",
      "4번째 줄입니다.\n",
      "\n",
      "5번째 줄입니다.\n",
      "\n",
      "6번째 줄입니다.\n",
      "\n",
      "7번째 줄입니다.\n",
      "\n",
      "8번째 줄입니다.\n",
      "\n",
      "9번째 줄입니다.\n",
      "\n",
      "10번째 줄입니다.\n",
      "\n"
     ]
    }
   ],
   "source": [
    "# 파일 객체를 for문으로 줄단위로 읽기\n",
    "f = open('newfile.txt','r')\n",
    "for line in f:\n",
    "    print(line)\n",
    "f.close()"
   ]
  },
  {
   "cell_type": "markdown",
   "id": "65e7cd99-89e6-4c2b-9501-6560e67b605a",
   "metadata": {},
   "source": [
    "### 4) 파일에 새로운 내용추가 "
   ]
  },
  {
   "cell_type": "code",
   "execution_count": 52,
   "id": "ccf94fe1-9b91-47bb-97aa-61cebd141373",
   "metadata": {},
   "outputs": [],
   "source": [
    "f = open('newfile.txt','a')\n",
    "for i in range(11,20):\n",
    "    data = f\"{i}번쨰 줄을 추가합니다.\\n\"\n",
    "    f.write(data)\n",
    "f.close()"
   ]
  },
  {
   "cell_type": "markdown",
   "id": "a91840eb-8779-4aa4-9549-4308141fde70",
   "metadata": {},
   "source": [
    "### 5) with문과 함께 사용하기 "
   ]
  },
  {
   "cell_type": "code",
   "execution_count": 53,
   "id": "07aaeb7b-e824-459a-bfb0-93c5d5712476",
   "metadata": {},
   "outputs": [],
   "source": [
    "with open(\"foo.txt\",'w') as f:\n",
    "    f.write(\"Life is too short, you need python\")"
   ]
  },
  {
   "cell_type": "code",
   "execution_count": null,
   "id": "4e644ef5-82de-4900-8aea-9b23f925da21",
   "metadata": {},
   "outputs": [],
   "source": []
  }
 ],
 "metadata": {
  "kernelspec": {
   "display_name": "Python 3 (ipykernel)",
   "language": "python",
   "name": "python3"
  },
  "language_info": {
   "codemirror_mode": {
    "name": "ipython",
    "version": 3
   },
   "file_extension": ".py",
   "mimetype": "text/x-python",
   "name": "python",
   "nbconvert_exporter": "python",
   "pygments_lexer": "ipython3",
   "version": "3.13.5"
  },
  "widgets": {
   "application/vnd.jupyter.widget-state+json": {
    "state": {},
    "version_major": 2,
    "version_minor": 0
   }
  }
 },
 "nbformat": 4,
 "nbformat_minor": 5
}
